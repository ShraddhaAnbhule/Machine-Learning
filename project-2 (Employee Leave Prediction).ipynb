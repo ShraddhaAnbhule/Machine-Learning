{
 "cells": [
  {
   "cell_type": "code",
   "execution_count": 1,
   "id": "e9397524",
   "metadata": {},
   "outputs": [],
   "source": [
    "# importing Libraries\n",
    "\n",
    "import pandas as pd\n",
    "import numpy as np\n",
    "import matplotlib.pyplot as plt\n",
    "import seaborn as sns\n",
    "from sklearn.preprocessing import LabelEncoder\n",
    "from sklearn.model_selection import train_test_split\n",
    "from sklearn.preprocessing import MaxAbsScaler\n",
    "from sklearn.preprocessing import StandardScaler\n",
    "from imblearn.over_sampling import SMOTE\n",
    "from sklearn.linear_model import LogisticRegression\n",
    "from sklearn.svm import SVC\n",
    "from sklearn.neighbors import KNeighborsClassifier\n",
    "from sklearn.tree import DecisionTreeClassifier\n",
    "from sklearn.model_selection import cross_val_score\n",
    "from sklearn.model_selection import cross_val_predict\n",
    "from sklearn.model_selection import StratifiedKFold\n",
    "from sklearn.metrics import accuracy_score,confusion_matrix,classification_report\n",
    "from sklearn.ensemble import VotingClassifier\n",
    "from sklearn.ensemble import BaggingClassifier\n",
    "from sklearn.ensemble import RandomForestClassifier\n",
    "from collections import Counter\n",
    "from sklearn import metrics"
   ]
  },
  {
   "cell_type": "code",
   "execution_count": 2,
   "id": "837a4bb4",
   "metadata": {},
   "outputs": [
    {
     "data": {
      "text/html": [
       "<div>\n",
       "<style scoped>\n",
       "    .dataframe tbody tr th:only-of-type {\n",
       "        vertical-align: middle;\n",
       "    }\n",
       "\n",
       "    .dataframe tbody tr th {\n",
       "        vertical-align: top;\n",
       "    }\n",
       "\n",
       "    .dataframe thead th {\n",
       "        text-align: right;\n",
       "    }\n",
       "</style>\n",
       "<table border=\"1\" class=\"dataframe\">\n",
       "  <thead>\n",
       "    <tr style=\"text-align: right;\">\n",
       "      <th></th>\n",
       "      <th>Education</th>\n",
       "      <th>JoiningYear</th>\n",
       "      <th>City</th>\n",
       "      <th>PaymentTier</th>\n",
       "      <th>Age</th>\n",
       "      <th>Gender</th>\n",
       "      <th>EverBenched</th>\n",
       "      <th>ExperienceInCurrentDomain</th>\n",
       "      <th>LeaveOrNot</th>\n",
       "    </tr>\n",
       "  </thead>\n",
       "  <tbody>\n",
       "    <tr>\n",
       "      <th>0</th>\n",
       "      <td>Bachelors</td>\n",
       "      <td>2017</td>\n",
       "      <td>Bangalore</td>\n",
       "      <td>3</td>\n",
       "      <td>34</td>\n",
       "      <td>Male</td>\n",
       "      <td>No</td>\n",
       "      <td>0</td>\n",
       "      <td>0</td>\n",
       "    </tr>\n",
       "    <tr>\n",
       "      <th>1</th>\n",
       "      <td>Bachelors</td>\n",
       "      <td>2013</td>\n",
       "      <td>Pune</td>\n",
       "      <td>1</td>\n",
       "      <td>28</td>\n",
       "      <td>Female</td>\n",
       "      <td>No</td>\n",
       "      <td>3</td>\n",
       "      <td>1</td>\n",
       "    </tr>\n",
       "    <tr>\n",
       "      <th>2</th>\n",
       "      <td>Bachelors</td>\n",
       "      <td>2014</td>\n",
       "      <td>New Delhi</td>\n",
       "      <td>3</td>\n",
       "      <td>38</td>\n",
       "      <td>Female</td>\n",
       "      <td>No</td>\n",
       "      <td>2</td>\n",
       "      <td>0</td>\n",
       "    </tr>\n",
       "    <tr>\n",
       "      <th>3</th>\n",
       "      <td>Masters</td>\n",
       "      <td>2016</td>\n",
       "      <td>Bangalore</td>\n",
       "      <td>3</td>\n",
       "      <td>27</td>\n",
       "      <td>Male</td>\n",
       "      <td>No</td>\n",
       "      <td>5</td>\n",
       "      <td>1</td>\n",
       "    </tr>\n",
       "    <tr>\n",
       "      <th>4</th>\n",
       "      <td>Masters</td>\n",
       "      <td>2017</td>\n",
       "      <td>Pune</td>\n",
       "      <td>3</td>\n",
       "      <td>24</td>\n",
       "      <td>Male</td>\n",
       "      <td>Yes</td>\n",
       "      <td>2</td>\n",
       "      <td>1</td>\n",
       "    </tr>\n",
       "    <tr>\n",
       "      <th>...</th>\n",
       "      <td>...</td>\n",
       "      <td>...</td>\n",
       "      <td>...</td>\n",
       "      <td>...</td>\n",
       "      <td>...</td>\n",
       "      <td>...</td>\n",
       "      <td>...</td>\n",
       "      <td>...</td>\n",
       "      <td>...</td>\n",
       "    </tr>\n",
       "    <tr>\n",
       "      <th>4648</th>\n",
       "      <td>Bachelors</td>\n",
       "      <td>2013</td>\n",
       "      <td>Bangalore</td>\n",
       "      <td>3</td>\n",
       "      <td>26</td>\n",
       "      <td>Female</td>\n",
       "      <td>No</td>\n",
       "      <td>4</td>\n",
       "      <td>0</td>\n",
       "    </tr>\n",
       "    <tr>\n",
       "      <th>4649</th>\n",
       "      <td>Masters</td>\n",
       "      <td>2013</td>\n",
       "      <td>Pune</td>\n",
       "      <td>2</td>\n",
       "      <td>37</td>\n",
       "      <td>Male</td>\n",
       "      <td>No</td>\n",
       "      <td>2</td>\n",
       "      <td>1</td>\n",
       "    </tr>\n",
       "    <tr>\n",
       "      <th>4650</th>\n",
       "      <td>Masters</td>\n",
       "      <td>2018</td>\n",
       "      <td>New Delhi</td>\n",
       "      <td>3</td>\n",
       "      <td>27</td>\n",
       "      <td>Male</td>\n",
       "      <td>No</td>\n",
       "      <td>5</td>\n",
       "      <td>1</td>\n",
       "    </tr>\n",
       "    <tr>\n",
       "      <th>4651</th>\n",
       "      <td>Bachelors</td>\n",
       "      <td>2012</td>\n",
       "      <td>Bangalore</td>\n",
       "      <td>3</td>\n",
       "      <td>30</td>\n",
       "      <td>Male</td>\n",
       "      <td>Yes</td>\n",
       "      <td>2</td>\n",
       "      <td>0</td>\n",
       "    </tr>\n",
       "    <tr>\n",
       "      <th>4652</th>\n",
       "      <td>Bachelors</td>\n",
       "      <td>2015</td>\n",
       "      <td>Bangalore</td>\n",
       "      <td>3</td>\n",
       "      <td>33</td>\n",
       "      <td>Male</td>\n",
       "      <td>Yes</td>\n",
       "      <td>4</td>\n",
       "      <td>0</td>\n",
       "    </tr>\n",
       "  </tbody>\n",
       "</table>\n",
       "<p>4653 rows × 9 columns</p>\n",
       "</div>"
      ],
      "text/plain": [
       "      Education  JoiningYear       City  PaymentTier  Age  Gender EverBenched  \\\n",
       "0     Bachelors         2017  Bangalore            3   34    Male          No   \n",
       "1     Bachelors         2013       Pune            1   28  Female          No   \n",
       "2     Bachelors         2014  New Delhi            3   38  Female          No   \n",
       "3       Masters         2016  Bangalore            3   27    Male          No   \n",
       "4       Masters         2017       Pune            3   24    Male         Yes   \n",
       "...         ...          ...        ...          ...  ...     ...         ...   \n",
       "4648  Bachelors         2013  Bangalore            3   26  Female          No   \n",
       "4649    Masters         2013       Pune            2   37    Male          No   \n",
       "4650    Masters         2018  New Delhi            3   27    Male          No   \n",
       "4651  Bachelors         2012  Bangalore            3   30    Male         Yes   \n",
       "4652  Bachelors         2015  Bangalore            3   33    Male         Yes   \n",
       "\n",
       "      ExperienceInCurrentDomain  LeaveOrNot  \n",
       "0                             0           0  \n",
       "1                             3           1  \n",
       "2                             2           0  \n",
       "3                             5           1  \n",
       "4                             2           1  \n",
       "...                         ...         ...  \n",
       "4648                          4           0  \n",
       "4649                          2           1  \n",
       "4650                          5           1  \n",
       "4651                          2           0  \n",
       "4652                          4           0  \n",
       "\n",
       "[4653 rows x 9 columns]"
      ]
     },
     "execution_count": 2,
     "metadata": {},
     "output_type": "execute_result"
    }
   ],
   "source": [
    "# Uploading Dataset\n",
    "\n",
    "dataset=pd.read_csv(\"D:\\Datasets\\Employee.csv\")\n",
    "dataset"
   ]
  },
  {
   "cell_type": "code",
   "execution_count": 3,
   "id": "d55f22a6",
   "metadata": {},
   "outputs": [
    {
     "data": {
      "text/plain": [
       "array([2017, 2013, 2014, 2016, 2015, 2012, 2018], dtype=int64)"
      ]
     },
     "execution_count": 3,
     "metadata": {},
     "output_type": "execute_result"
    }
   ],
   "source": [
    "dataset[\"JoiningYear\"].unique()"
   ]
  },
  {
   "cell_type": "code",
   "execution_count": 4,
   "id": "5352dec1",
   "metadata": {
    "scrolled": true
   },
   "outputs": [
    {
     "name": "stdout",
     "output_type": "stream",
     "text": [
      "<class 'pandas.core.frame.DataFrame'>\n",
      "RangeIndex: 4653 entries, 0 to 4652\n",
      "Data columns (total 9 columns):\n",
      " #   Column                     Non-Null Count  Dtype \n",
      "---  ------                     --------------  ----- \n",
      " 0   Education                  4653 non-null   object\n",
      " 1   JoiningYear                4653 non-null   int64 \n",
      " 2   City                       4653 non-null   object\n",
      " 3   PaymentTier                4653 non-null   int64 \n",
      " 4   Age                        4653 non-null   int64 \n",
      " 5   Gender                     4653 non-null   object\n",
      " 6   EverBenched                4653 non-null   object\n",
      " 7   ExperienceInCurrentDomain  4653 non-null   int64 \n",
      " 8   LeaveOrNot                 4653 non-null   int64 \n",
      "dtypes: int64(5), object(4)\n",
      "memory usage: 327.3+ KB\n"
     ]
    }
   ],
   "source": [
    "dataset.info()"
   ]
  },
  {
   "cell_type": "markdown",
   "id": "4d54eeeb",
   "metadata": {},
   "source": [
    "# EDA"
   ]
  },
  {
   "cell_type": "code",
   "execution_count": 5,
   "id": "250dafa9",
   "metadata": {},
   "outputs": [
    {
     "name": "stderr",
     "output_type": "stream",
     "text": [
      "C:\\ProgramData\\Anaconda3\\lib\\site-packages\\seaborn\\_decorators.py:36: FutureWarning: Pass the following variable as a keyword arg: x. From version 0.12, the only valid positional argument will be `data`, and passing other arguments without an explicit keyword will result in an error or misinterpretation.\n",
      "  warnings.warn(\n"
     ]
    },
    {
     "data": {
      "text/plain": [
       "<AxesSubplot:xlabel='Education', ylabel='count'>"
      ]
     },
     "execution_count": 5,
     "metadata": {},
     "output_type": "execute_result"
    },
    {
     "data": {
      "image/png": "[encoded data removed]",
      "text/plain": [
       "<Figure size 432x288 with 1 Axes>"
      ]
     },
     "metadata": {
      "needs_background": "light"
     },
     "output_type": "display_data"
    }
   ],
   "source": [
    "sns.countplot(dataset['Education'],hue=dataset['LeaveOrNot'])"
   ]
  },
  {
   "cell_type": "code",
   "execution_count": 6,
   "id": "da85059d",
   "metadata": {},
   "outputs": [
    {
     "name": "stderr",
     "output_type": "stream",
     "text": [
      "C:\\ProgramData\\Anaconda3\\lib\\site-packages\\seaborn\\_decorators.py:36: FutureWarning: Pass the following variable as a keyword arg: x. From version 0.12, the only valid positional argument will be `data`, and passing other arguments without an explicit keyword will result in an error or misinterpretation.\n",
      "  warnings.warn(\n"
     ]
    },
    {
     "data": {
      "text/plain": [
       "<AxesSubplot:xlabel='JoiningYear', ylabel='count'>"
      ]
     },
     "execution_count": 6,
     "metadata": {},
     "output_type": "execute_result"
    },
    {
     "data": {
      "image/png": "[encoded data removed]",
      "text/plain": [
       "<Figure size 432x288 with 1 Axes>"
      ]
     },
     "metadata": {
      "needs_background": "light"
     },
     "output_type": "display_data"
    }
   ],
   "source": [
    "sns.countplot(dataset['JoiningYear'],hue=dataset['LeaveOrNot'])"
   ]
  },
  {
   "cell_type": "code",
   "execution_count": 7,
   "id": "0d94cd58",
   "metadata": {
    "scrolled": true
   },
   "outputs": [
    {
     "name": "stderr",
     "output_type": "stream",
     "text": [
      "C:\\ProgramData\\Anaconda3\\lib\\site-packages\\seaborn\\_decorators.py:36: FutureWarning: Pass the following variable as a keyword arg: x. From version 0.12, the only valid positional argument will be `data`, and passing other arguments without an explicit keyword will result in an error or misinterpretation.\n",
      "  warnings.warn(\n"
     ]
    },
    {
     "data": {
      "text/plain": [
       "<AxesSubplot:xlabel='City', ylabel='count'>"
      ]
     },
     "execution_count": 7,
     "metadata": {},
     "output_type": "execute_result"
    },
    {
     "data": {
      "image/png": "[encoded data removed]",
      "text/plain": [
       "<Figure size 432x288 with 1 Axes>"
      ]
     },
     "metadata": {
      "needs_background": "light"
     },
     "output_type": "display_data"
    }
   ],
   "source": [
    "sns.countplot(dataset['City'],hue=dataset['LeaveOrNot'])"
   ]
  },
  {
   "cell_type": "code",
   "execution_count": 8,
   "id": "79c7bad2",
   "metadata": {},
   "outputs": [
    {
     "name": "stderr",
     "output_type": "stream",
     "text": [
      "C:\\ProgramData\\Anaconda3\\lib\\site-packages\\seaborn\\_decorators.py:36: FutureWarning: Pass the following variable as a keyword arg: x. From version 0.12, the only valid positional argument will be `data`, and passing other arguments without an explicit keyword will result in an error or misinterpretation.\n",
      "  warnings.warn(\n"
     ]
    },
    {
     "data": {
      "text/plain": [
       "<AxesSubplot:xlabel='PaymentTier', ylabel='count'>"
      ]
     },
     "execution_count": 8,
     "metadata": {},
     "output_type": "execute_result"
    },
    {
     "data": {
      "image/png": "[encoded data removed]",
      "text/plain": [
       "<Figure size 432x288 with 1 Axes>"
      ]
     },
     "metadata": {
      "needs_background": "light"
     },
     "output_type": "display_data"
    }
   ],
   "source": [
    "sns.countplot(dataset['PaymentTier'],hue=dataset['LeaveOrNot'])"
   ]
  },
  {
   "cell_type": "code",
   "execution_count": 9,
   "id": "39286338",
   "metadata": {},
   "outputs": [
    {
     "name": "stderr",
     "output_type": "stream",
     "text": [
      "C:\\ProgramData\\Anaconda3\\lib\\site-packages\\seaborn\\_decorators.py:36: FutureWarning: Pass the following variables as keyword args: x, y. From version 0.12, the only valid positional argument will be `data`, and passing other arguments without an explicit keyword will result in an error or misinterpretation.\n",
      "  warnings.warn(\n"
     ]
    },
    {
     "data": {
      "text/plain": [
       "<AxesSubplot:xlabel='LeaveOrNot', ylabel='Age'>"
      ]
     },
     "execution_count": 9,
     "metadata": {},
     "output_type": "execute_result"
    },
    {
     "data": {
      "image/png": "[encoded data removed]",
      "text/plain": [
       "<Figure size 432x288 with 1 Axes>"
      ]
     },
     "metadata": {
      "needs_background": "light"
     },
     "output_type": "display_data"
    }
   ],
   "source": [
    "sns.barplot(dataset['LeaveOrNot'],dataset['Age'])"
   ]
  },
  {
   "cell_type": "code",
   "execution_count": 10,
   "id": "e627190f",
   "metadata": {},
   "outputs": [
    {
     "name": "stderr",
     "output_type": "stream",
     "text": [
      "C:\\ProgramData\\Anaconda3\\lib\\site-packages\\seaborn\\_decorators.py:36: FutureWarning: Pass the following variable as a keyword arg: x. From version 0.12, the only valid positional argument will be `data`, and passing other arguments without an explicit keyword will result in an error or misinterpretation.\n",
      "  warnings.warn(\n"
     ]
    },
    {
     "data": {
      "text/plain": [
       "<AxesSubplot:xlabel='Age', ylabel='count'>"
      ]
     },
     "execution_count": 10,
     "metadata": {},
     "output_type": "execute_result"
    },
    {
     "data": {
      "image/png": "[encoded data removed]",
      "text/plain": [
       "<Figure size 1296x1152 with 1 Axes>"
      ]
     },
     "metadata": {
      "needs_background": "light"
     },
     "output_type": "display_data"
    }
   ],
   "source": [
    "plt.figure(figsize=(18,16))\n",
    "sns.countplot(dataset['Age'],hue=dataset['LeaveOrNot'])"
   ]
  },
  {
   "cell_type": "code",
   "execution_count": 11,
   "id": "0c766412",
   "metadata": {},
   "outputs": [
    {
     "name": "stdout",
     "output_type": "stream",
     "text": [
      "['Adult', 'Young', 'Adult', 'Young', 'Young', 'Young', 'Adult', 'Adult', 'Young', 'Adult', 'Young', 'Adult', 'Adult', 'Adult', 'Adult', 'Young', 'Adult', 'Adult', 'Young', 'Young', 'Adult', 'Young', 'Adult', 'Young', 'Young', 'Young', 'Adult', 'Young', 'Adult', 'Young', 'Young', 'Young', 'Young', 'Adult', 'Adult', 'Young', 'Young', 'Adult', 'Young', 'Young', 'Adult', 'Young', 'Young', 'Adult', 'Adult', 'Young', 'Young', 'Adult', 'Adult', 'Young', 'Adult', 'Young', 'Adult', 'Adult', 'Adult', 'Young', 'Adult', 'Adult', 'Adult', 'Adult', 'Young', 'Young', 'Young', 'Young', 'Adult', 'Adult', 'Young', 'Young', 'Young', 'Adult', 'Young', 'Adult', 'Young', 'Young', 'Young', 'Adult', 'Young', 'Young', 'Adult', 'Adult', 'Adult', 'Adult', 'Adult', 'Young', 'Young', 'Adult', 'Young', 'Adult', 'Young', 'Adult', 'Young', 'Young', 'Adult', 'Adult', 'Adult', 'Young', 'Adult', 'Young', 'Young', 'Young', 'Young', 'Young', 'Young', 'Young', 'Young', 'Young', 'Young', 'Young', 'Young', 'Young', 'Young', 'Young', 'Young', 'Young', 'Young', 'Young', 'Young', 'Young', 'Young', 'Young', 'Young', 'Young', 'Young', 'Young', 'Young', 'Young', 'Young', 'Young', 'Young', 'Young', 'Young', 'Young', 'Young', 'Young', 'Young', 'Young', 'Young', 'Young', 'Young', 'Young', 'Young', 'Young', 'Young', 'Young', 'Young', 'Young', 'Young', 'Young', 'Young', 'Young', 'Young', 'Young', 'Young', 'Young', 'Young', 'Young', 'Young', 'Young', 'Young', 'Young', 'Young', 'Young', 'Young', 'Young', 'Young', 'Young', 'Young', 'Young', 'Young', 'Young', 'Young', 'Young', 'Young', 'Young', 'Young', 'Young', 'Young', 'Young', 'Young', 'Young', 'Young', 'Young', 'Young', 'Young', 'Young', 'Young', 'Young', 'Young', 'Young', 'Young', 'Young', 'Young', 'Young', 'Young', 'Young', 'Young', 'Young', 'Young', 'Young', 'Young', 'Young', 'Young', 'Young', 'Young', 'Young', 'Young', 'Young', 'Young', 'Young', 'Young', 'Young', 'Young', 'Young', 'Young', 'Young', 'Young', 'Young', 'Young', 'Young', 'Young', 'Young', 'Young', 'Young', 'Young', 'Young', 'Young', 'Young', 'Young', 'Young', 'Young', 'Young', 'Young', 'Young', 'Young', 'Young', 'Young', 'Young', 'Young', 'Young', 'Young', 'Young', 'Young', 'Young', 'Young', 'Young', 'Young', 'Young', 'Young', 'Young', 'Young', 'Young', 'Young', 'Young', 'Young', 'Young', 'Young', 'Young', 'Young', 'Young', 'Young', 'Young', 'Young', 'Young', 'Young', 'Young', 'Young', 'Young', 'Young', 'Young', 'Young', 'Young', 'Young', 'Young', 'Young', 'Young', 'Young', 'Young', 'Young', 'Young', 'Young', 'Young', 'Young', 'Young', 'Young', 'Young', 'Young', 'Young', 'Young', 'Young', 'Young', 'Young', 'Young', 'Young', 'Young', 'Young', 'Young', 'Young', 'Young', 'Young', 'Young', 'Young', 'Young', 'Young', 'Young', 'Young', 'Young', 'Young', 'Young', 'Young', 'Young', 'Young', 'Young', 'Young', 'Young', 'Young', 'Young', 'Young', 'Young', 'Young', 'Young', 'Young', 'Young', 'Young', 'Young', 'Young', 'Young', 'Young', 'Young', 'Young', 'Young', 'Young', 'Young', 'Young', 'Young', 'Young', 'Young', 'Young', 'Young', 'Young', 'Young', 'Young', 'Young', 'Young', 'Young', 'Young', 'Young', 'Young', 'Young', 'Young', 'Young', 'Young', 'Young', 'Young', 'Young', 'Young', 'Young', 'Young', 'Young', 'Young', 'Young', 'Young', 'Young', 'Young', 'Young', 'Young', 'Young', 'Young', 'Young', 'Young', 'Young', 'Young', 'Young', 'Young', 'Young', 'Young', 'Young', 'Young', 'Young', 'Young', 'Young', 'Young', 'Young', 'Young', 'Young', 'Young', 'Young', 'Young', 'Young', 'Young', 'Young', 'Young', 'Young', 'Young', 'Young', 'Young', 'Young', 'Young', 'Young', 'Young', 'Young', 'Young', 'Young', 'Young', 'Young', 'Young', 'Young', 'Young', 'Young', 'Young', 'Young', 'Young', 'Young', 'Young', 'Young', 'Young', 'Young', 'Young', 'Young', 'Young', 'Young', 'Young', 'Young', 'Young', 'Young', 'Young', 'Young', 'Young', 'Young', 'Young', 'Young', 'Young', 'Young', 'Young', 'Young', 'Young', 'Young', 'Young', 'Young', 'Young', 'Young', 'Young', 'Young', 'Young', 'Young', 'Young', 'Young', 'Young', 'Young', 'Young', 'Young', 'Young', 'Young', 'Young', 'Young', 'Young', 'Young', 'Young', 'Young', 'Young', 'Young', 'Young', 'Young', 'Young', 'Young', 'Young', 'Young', 'Young', 'Young', 'Young', 'Young', 'Young', 'Young', 'Young', 'Young', 'Young', 'Young', 'Young', 'Young', 'Young', 'Young', 'Young', 'Young', 'Young', 'Young', 'Young', 'Young', 'Young', 'Young', 'Young', 'Young', 'Young', 'Young', 'Young', 'Young', 'Young', 'Young', 'Young', 'Young', 'Young', 'Young', 'Young', 'Young', 'Young', 'Young', 'Young', 'Young', 'Young', 'Young', 'Young', 'Young', 'Young', 'Young', 'Young', 'Young', 'Young', 'Young', 'Young', 'Young', 'Young', 'Young', 'Young', 'Young', 'Young', 'Young', 'Young', 'Young', 'Young', 'Young', 'Young', 'Young', 'Young', 'Young', 'Young', 'Young', 'Young', 'Young', 'Young', 'Young', 'Young', 'Young', 'Young', 'Young', 'Young', 'Young', 'Young', 'Young', 'Young', 'Young', 'Young', 'Young', 'Young', 'Young', 'Young', 'Young', 'Young', 'Young', 'Young', 'Young', 'Young', 'Young', 'Young', 'Young', 'Young', 'Young', 'Young', 'Young', 'Young', 'Young', 'Young', 'Young', 'Young', 'Young', 'Young', 'Young', 'Young', 'Young', 'Young', 'Young', 'Young', 'Young', 'Young', 'Young', 'Young', 'Young', 'Young', 'Young', 'Young', 'Young', 'Young', 'Young', 'Young', 'Young', 'Young', 'Young', 'Young', 'Young', 'Young', 'Young', 'Young', 'Young', 'Young', 'Young', 'Young', 'Young', 'Young', 'Young', 'Young', 'Young', 'Young', 'Young', 'Young', 'Young', 'Young', 'Young', 'Young', 'Young', 'Young', 'Young', 'Young', 'Young', 'Young', 'Young', 'Young', 'Young', 'Young', 'Young', 'Young', 'Young', 'Young', 'Young', 'Young', 'Young', 'Young', 'Young', 'Young', 'Young', 'Young', 'Young', 'Young', 'Young', 'Young', 'Young', 'Young', 'Young', 'Young', 'Young', 'Young', 'Young', 'Young', 'Young', 'Young', 'Young', 'Young', 'Young', 'Young', 'Young', 'Young', 'Young', 'Young', 'Young', 'Young', 'Young', 'Young', 'Young', 'Young', 'Young', 'Young', 'Young', 'Young', 'Young', 'Young', 'Young', 'Young', 'Young', 'Young', 'Young', 'Young', 'Young', 'Young', 'Young', 'Young', 'Young', 'Young', 'Young', 'Young', 'Young', 'Young', 'Young', 'Young', 'Young', 'Young', 'Young', 'Young', 'Young', 'Young', 'Young', 'Young', 'Young', 'Young', 'Young', 'Young', 'Young', 'Young', 'Young', 'Young', 'Young', 'Young', 'Young', 'Young', 'Young', 'Young', 'Young', 'Young', 'Young', 'Young', 'Young', 'Young', 'Young', 'Young', 'Young', 'Young', 'Young', 'Young', 'Young', 'Young', 'Young', 'Young', 'Young', 'Young', 'Young', 'Young', 'Young', 'Young', 'Young', 'Young', 'Young', 'Young', 'Young', 'Young', 'Young', 'Young', 'Young', 'Young', 'Young', 'Young', 'Young', 'Young', 'Young', 'Young', 'Young', 'Young', 'Young', 'Young', 'Young', 'Young', 'Young', 'Young', 'Young', 'Young', 'Young', 'Young', 'Young', 'Young', 'Young', 'Young', 'Young', 'Young', 'Young', 'Young', 'Young', 'Young', 'Young', 'Young', 'Young', 'Young', 'Young', 'Young', 'Young', 'Young', 'Young', 'Young', 'Young', 'Young', 'Young', 'Young', 'Young', 'Young', 'Young', 'Young', 'Young', 'Young', 'Young', 'Young', 'Young', 'Young', 'Young', 'Young', 'Young', 'Young', 'Young', 'Young', 'Young', 'Young', 'Young', 'Young', 'Young', 'Young', 'Young', 'Young', 'Young', 'Young', 'Young', 'Young', 'Young', 'Young', 'Young', 'Young', 'Young', 'Young', 'Young', 'Young', 'Young', 'Young', 'Young', 'Young', 'Young', 'Young', 'Young', 'Young', 'Young', 'Young', 'Young', 'Young', 'Young', 'Young', 'Young', 'Young', 'Young', 'Young', 'Young', 'Young', 'Young', 'Young', 'Young', 'Young', 'Young', 'Young', 'Young', 'Young', 'Young', 'Young', 'Young', 'Young', 'Young', 'Young', 'Young', 'Young', 'Young', 'Young', 'Young', 'Young', 'Young', 'Young', 'Young', 'Young', 'Young', 'Young', 'Young', 'Young', 'Young', 'Young', 'Young', 'Young', 'Young', 'Young', 'Young', 'Young', 'Young', 'Young', 'Young', 'Young', 'Young', 'Young', 'Young', 'Young', 'Young', 'Young', 'Young', 'Young', 'Young', 'Young', 'Young', 'Young', 'Young', 'Young', 'Young', 'Young', 'Young', 'Young', 'Young', 'Young', 'Young', 'Young', 'Young', 'Young', 'Young', 'Young', 'Young', 'Young', 'Young', 'Young', 'Young', 'Young', 'Young', 'Young', 'Young', 'Young', 'Young', 'Young', 'Young', 'Young', 'Young', 'Young', 'Young', 'Young', 'Young', 'Young', 'Young', 'Young', 'Young', 'Young', 'Young', 'Young', 'Young', 'Young', 'Young', 'Young', 'Young', 'Young', 'Young', 'Young', 'Young', 'Young', 'Young', 'Young', 'Young', 'Young', 'Young', 'Young', 'Young', 'Young', 'Young', 'Young', 'Young', 'Young', 'Young', 'Young', 'Young', 'Young', 'Young', 'Young', 'Young', 'Young', 'Young', 'Young', 'Young', 'Young', 'Young', 'Young', 'Young', 'Young', 'Young', 'Young', 'Young', 'Young', 'Young', 'Young', 'Young', 'Young', 'Young', 'Young', 'Young', 'Young', 'Young', 'Young', 'Young', 'Young', 'Young', 'Young', 'Young', 'Young', 'Young', 'Young', 'Young', 'Young', 'Young', 'Young', 'Young', 'Young', 'Young', 'Young', 'Young', 'Young', 'Young', 'Young', 'Young', 'Young', 'Young', 'Young', 'Young', 'Young', 'Young', 'Young', 'Young', 'Young', 'Young', 'Young', 'Young', 'Young', 'Young', 'Young', 'Young', 'Young', 'Young', 'Young', 'Young', 'Young', 'Young', 'Young', 'Young', 'Young', 'Young', 'Young', 'Young', 'Young', 'Young', 'Young', 'Young', 'Young', 'Young', 'Young', 'Young', 'Young', 'Young', 'Young', 'Young', 'Young', 'Young', 'Young', 'Young', 'Young', 'Young', 'Young', 'Young', 'Young', 'Young', 'Young', 'Young', 'Young', 'Young', 'Young', 'Young', 'Young', 'Young', 'Young', 'Young', 'Young', 'Young', 'Young', 'Young', 'Young', 'Young', 'Young', 'Young', 'Young', 'Young', 'Young', 'Young', 'Young', 'Young', 'Young', 'Young', 'Young', 'Young', 'Young', 'Young', 'Young', 'Young', 'Young', 'Young', 'Young', 'Young', 'Young', 'Young', 'Young', 'Young', 'Young', 'Young', 'Young', 'Young', 'Young', 'Young', 'Young', 'Young', 'Young', 'Young', 'Young', 'Young', 'Young', 'Young', 'Young', 'Young', 'Young', 'Young', 'Young', 'Young', 'Young', 'Young', 'Young', 'Young', 'Young', 'Young', 'Young', 'Young', 'Young', 'Young', 'Young', 'Young', 'Young', 'Young', 'Young', 'Young', 'Young', 'Young', 'Young', 'Young', 'Young', 'Young', 'Young', 'Young', 'Young', 'Young', 'Young', 'Young', 'Young', 'Young', 'Young', 'Young', 'Young', 'Young', 'Young', 'Young', 'Young', 'Young', 'Young', 'Young', 'Young', 'Young', 'Young', 'Young', 'Young', 'Young', 'Young', 'Young', 'Young', 'Young', 'Young', 'Young', 'Young', 'Young', 'Young', 'Young', 'Young', 'Young', 'Young', 'Young', 'Young', 'Young', 'Young', 'Young', 'Young', 'Young', 'Young', 'Young', 'Young', 'Young', 'Young', 'Young', 'Young', 'Young', 'Young', 'Young', 'Young', 'Young', 'Young', 'Young', 'Young', 'Young', 'Young', 'Young', 'Young', 'Young', 'Young', 'Young', 'Young', 'Young', 'Young', 'Young', 'Young', 'Young', 'Young', 'Young', 'Young', 'Young', 'Young', 'Young', 'Young', 'Young', 'Young', 'Young', 'Young', 'Young', 'Young', 'Young', 'Young', 'Young', 'Young', 'Young', 'Young', 'Young', 'Young', 'Young', 'Young', 'Young', 'Young', 'Young', 'Young', 'Young', 'Young', 'Young', 'Young', 'Young', 'Young', 'Young', 'Young', 'Young', 'Young', 'Young', 'Young', 'Young', 'Young', 'Young', 'Young', 'Young', 'Young', 'Young', 'Young', 'Young', 'Young', 'Young', 'Young', 'Young', 'Young', 'Young', 'Young', 'Young', 'Young', 'Young', 'Young', 'Young', 'Young', 'Young', 'Young', 'Young', 'Young', 'Young', 'Young', 'Young', 'Young', 'Young', 'Young', 'Young', 'Young', 'Young', 'Young', 'Young', 'Young', 'Young', 'Young', 'Young', 'Young', 'Young', 'Young', 'Young', 'Young', 'Young', 'Young', 'Young', 'Young', 'Young', 'Young', 'Young', 'Young', 'Young', 'Young', 'Young', 'Young', 'Young', 'Young', 'Young', 'Young', 'Young', 'Young', 'Young', 'Young', 'Young', 'Young', 'Young', 'Young', 'Young', 'Young', 'Young', 'Young', 'Young', 'Young', 'Young', 'Young', 'Young', 'Young', 'Young', 'Young', 'Young', 'Young', 'Young', 'Young', 'Young', 'Young', 'Young', 'Young', 'Young', 'Young', 'Young', 'Young', 'Young', 'Young', 'Young', 'Young', 'Young', 'Young', 'Young', 'Young', 'Young', 'Young', 'Young', 'Young', 'Young', 'Young', 'Young', 'Young', 'Young', 'Young', 'Young', 'Young', 'Young', 'Young', 'Young', 'Young', 'Young', 'Young', 'Young', 'Young', 'Young', 'Young', 'Young', 'Young', 'Young', 'Young', 'Young', 'Young', 'Young', 'Young', 'Young', 'Young', 'Young', 'Young', 'Young', 'Young', 'Young', 'Young', 'Young', 'Young', 'Young', 'Young', 'Young', 'Young', 'Young', 'Young', 'Young', 'Young', 'Young', 'Young', 'Young', 'Young', 'Young', 'Young', 'Young', 'Young', 'Young', 'Young', 'Young', 'Young', 'Young', 'Young', 'Young', 'Young', 'Young', 'Young', 'Young', 'Young', 'Young', 'Young', 'Young', 'Young', 'Young', 'Young', 'Young', 'Young', 'Young', 'Young', 'Young', 'Young', 'Young', 'Young', 'Young', 'Young', 'Young', 'Young', 'Young', 'Young', 'Young', 'Young', 'Young', 'Young', 'Young', 'Young', 'Young', 'Young', 'Young', 'Young', 'Young', 'Young', 'Young', 'Young', 'Young', 'Young', 'Young', 'Young', 'Young', 'Young', 'Young', 'Young', 'Young', 'Young', 'Young', 'Young', 'Young', 'Young', 'Young', 'Young', 'Young', 'Young', 'Young', 'Young', 'Young', 'Young', 'Young', 'Young', 'Young', 'Young', 'Young', 'Young', 'Young', 'Young', 'Young', 'Young', 'Young', 'Young', 'Young', 'Young', 'Young', 'Young', 'Young', 'Young', 'Young', 'Young', 'Young', 'Young', 'Young', 'Young', 'Young', 'Young', 'Young', 'Young', 'Young', 'Young', 'Young', 'Young', 'Young', 'Young', 'Young', 'Young', 'Young', 'Young', 'Young', 'Young', 'Young', 'Young', 'Young', 'Young', 'Young', 'Young', 'Young', 'Young', 'Young', 'Young', 'Young', 'Young', 'Young', 'Young', 'Young', 'Young', 'Young', 'Young', 'Young', 'Young', 'Young', 'Young', 'Young', 'Young', 'Young', 'Young', 'Young', 'Young', 'Young', 'Young', 'Young', 'Young', 'Young', 'Young', 'Young', 'Young', 'Young', 'Young', 'Young', 'Young', 'Young', 'Young', 'Young', 'Young', 'Young', 'Young', 'Young', 'Young', 'Young', 'Young', 'Young', 'Young', 'Young', 'Young', 'Young', 'Young', 'Young', 'Young', 'Young', 'Young', 'Young', 'Young', 'Young', 'Young', 'Young', 'Young', 'Young', 'Young', 'Young', 'Young', 'Young', 'Young', 'Young', 'Young', 'Young', 'Young', 'Young', 'Young', 'Young', 'Young', 'Young', 'Young', 'Young', 'Young', 'Young', 'Young', 'Young', 'Young', 'Young', 'Young', 'Young', 'Young', 'Young', 'Young', 'Young', 'Young', 'Young', 'Young', 'Young', 'Young', 'Young', 'Young', 'Young', 'Young', 'Young', 'Young', 'Young', 'Young', 'Young', 'Young', 'Young', 'Young', 'Young', 'Young', 'Young', 'Young', 'Young', 'Young', 'Young', 'Young', 'Young', 'Young', 'Young', 'Young', 'Young', 'Young', 'Young', 'Young', 'Young', 'Young', 'Young', 'Young', 'Young', 'Young', 'Young', 'Young', 'Young', 'Young', 'Young', 'Young', 'Young', 'Young', 'Young', 'Young', 'Young', 'Young', 'Young', 'Young', 'Young', 'Young', 'Young', 'Young', 'Young', 'Young', 'Young', 'Young', 'Young', 'Young', 'Young', 'Young', 'Young', 'Young', 'Young', 'Young', 'Young', 'Young', 'Young', 'Young', 'Young', 'Young', 'Young', 'Young', 'Young', 'Young', 'Young', 'Young', 'Young', 'Young', 'Young', 'Young', 'Young', 'Young', 'Young', 'Young', 'Young', 'Young', 'Young', 'Young', 'Young', 'Young', 'Young', 'Young', 'Young', 'Young', 'Young', 'Young', 'Young', 'Young', 'Young', 'Young', 'Young', 'Young', 'Young', 'Young', 'Young', 'Young', 'Young', 'Young', 'Young', 'Young', 'Young', 'Young', 'Young', 'Young', 'Young', 'Young', 'Young', 'Young', 'Young', 'Young', 'Young', 'Young', 'Young', 'Young', 'Young', 'Young', 'Young', 'Young', 'Young', 'Young', 'Young', 'Young', 'Young', 'Young', 'Young', 'Young', 'Young', 'Young', 'Young', 'Young', 'Young', 'Young', 'Young', 'Young', 'Young', 'Young', 'Young', 'Young', 'Young', 'Young', 'Young', 'Young', 'Young', 'Young', 'Young', 'Young', 'Young', 'Young', 'Young', 'Young', 'Young', 'Young', 'Young', 'Young', 'Young', 'Young', 'Young', 'Young', 'Young', 'Young', 'Young', 'Young', 'Young', 'Young', 'Young', 'Young', 'Young', 'Young', 'Young', 'Young', 'Young', 'Young', 'Young', 'Young', 'Young', 'Young', 'Young', 'Young', 'Young', 'Young', 'Young', 'Young', 'Young', 'Young', 'Young', 'Young', 'Young', 'Young', 'Young', 'Young', 'Young', 'Young', 'Young', 'Young', 'Young', 'Young', 'Young', 'Young', 'Young', 'Young', 'Young', 'Young', 'Young', 'Young', 'Young', 'Young', 'Young', 'Young', 'Young', 'Young', 'Young', 'Young', 'Young', 'Young', 'Young', 'Young', 'Young', 'Young', 'Young', 'Young', 'Young', 'Young', 'Young', 'Young', 'Young', 'Young', 'Young', 'Young', 'Young', 'Young', 'Young', 'Young', 'Young', 'Young', 'Young', 'Young', 'Young', 'Young', 'Young', 'Young', 'Young', 'Young', 'Young', 'Young', 'Young', 'Young', 'Young', 'Young', 'Young', 'Young', 'Young', 'Young', 'Young', 'Young', 'Young', 'Young', 'Young', 'Young', 'Young', 'Young', 'Young', 'Young', 'Young', 'Young', 'Young', 'Young', 'Young', 'Young', 'Young', 'Young', 'Young', 'Young', 'Young', 'Young', 'Young', 'Young', 'Young', 'Young', 'Young', 'Young', 'Young', 'Young', 'Young', 'Young', 'Young', 'Young', 'Young', 'Young', 'Young', 'Young', 'Young', 'Young', 'Young', 'Young', 'Young', 'Young', 'Young', 'Young', 'Young', 'Young', 'Young', 'Young', 'Young', 'Young', 'Young', 'Young', 'Young', 'Young', 'Young', 'Young', 'Young', 'Young', 'Young', 'Young', 'Young', 'Young', 'Young', 'Young', 'Young', 'Young', 'Young', 'Young', 'Young', 'Young', 'Young', 'Young', 'Young', 'Young', 'Young', 'Young', 'Young', 'Young', 'Young', 'Young', 'Young', 'Young', 'Young', 'Young', 'Young', 'Young', 'Young', 'Young', 'Young', 'Young', 'Young', 'Young', 'Young', 'Young', 'Young', 'Young', 'Young', 'Young', 'Young', 'Young', 'Young', 'Young', 'Young', 'Young', 'Young', 'Young', 'Young', 'Young', 'Young', 'Young', 'Young', 'Young', 'Young', 'Young', 'Young', 'Young', 'Young', 'Young', 'Young', 'Young', 'Young', 'Young', 'Young', 'Young', 'Young', 'Young', 'Young', 'Young', 'Young', 'Young', 'Young', 'Young', 'Young', 'Young', 'Young', 'Young', 'Young', 'Young', 'Young', 'Young', 'Young', 'Young', 'Young', 'Young', 'Young', 'Young', 'Young', 'Young', 'Young', 'Young', 'Young', 'Young', 'Young', 'Young', 'Young', 'Young', 'Young', 'Young', 'Young', 'Young', 'Young', 'Young', 'Young', 'Young', 'Young', 'Young', 'Young', 'Young', 'Young', 'Young', 'Young', 'Young', 'Young', 'Young', 'Young', 'Young', 'Young', 'Young', 'Young', 'Young', 'Young', 'Young', 'Young', 'Young', 'Young', 'Young', 'Young', 'Young', 'Young', 'Young', 'Young', 'Young', 'Young', 'Young', 'Young', 'Young', 'Young', 'Young', 'Young', 'Young', 'Young', 'Young', 'Young', 'Young', 'Young', 'Young', 'Young', 'Young', 'Young', 'Young', 'Young', 'Young', 'Young', 'Young', 'Young', 'Young', 'Young', 'Young', 'Young', 'Young', 'Young', 'Young', 'Young', 'Young', 'Young', 'Young', 'Young', 'Young', 'Young', 'Young', 'Young', 'Young', 'Young', 'Young', 'Young', 'Young', 'Young', 'Young', 'Young', 'Young', 'Young', 'Young', 'Young', 'Young', 'Young', 'Young', 'Young', 'Young', 'Young', 'Young', 'Young', 'Young', 'Young', 'Young', 'Young', 'Young', 'Young', 'Young', 'Young', 'Young', 'Young', 'Young', 'Young', 'Young', 'Young', 'Young', 'Young', 'Young', 'Young', 'Young', 'Young', 'Young', 'Young', 'Young', 'Young', 'Young', 'Young', 'Young', 'Young', 'Young', 'Young', 'Young', 'Young', 'Young', 'Young', 'Young', 'Young', 'Young', 'Young', 'Young', 'Young', 'Young', 'Young', 'Young', 'Young', 'Young', 'Young', 'Young', 'Young', 'Young', 'Young', 'Young', 'Young', 'Young', 'Young', 'Young', 'Young', 'Young', 'Young', 'Young', 'Young', 'Young', 'Young', 'Young', 'Young', 'Young', 'Young', 'Young', 'Young', 'Young', 'Young', 'Young', 'Young', 'Young', 'Young', 'Young', 'Young', 'Young', 'Young', 'Young', 'Young', 'Young', 'Young', 'Young', 'Young', 'Young', 'Young', 'Young', 'Young', 'Young', 'Young', 'Young', 'Young', 'Young', 'Young', 'Young', 'Young', 'Young', 'Young', 'Young', 'Young', 'Young', 'Young', 'Young', 'Young', 'Young', 'Young', 'Young', 'Young', 'Young', 'Young', 'Young', 'Young', 'Young', 'Young', 'Young', 'Young', 'Young', 'Young', 'Young', 'Young', 'Young', 'Young', 'Young', 'Young', 'Young', 'Young', 'Young', 'Young', 'Young', 'Young', 'Young', 'Young', 'Young', 'Young', 'Young', 'Young', 'Young', 'Young', 'Young', 'Young', 'Young', 'Young', 'Young', 'Young', 'Young', 'Young', 'Young', 'Young', 'Young', 'Young', 'Young', 'Young', 'Young', 'Young', 'Young', 'Young', 'Young', 'Young', 'Young', 'Young', 'Young', 'Young', 'Young', 'Young', 'Young', 'Young', 'Young', 'Young', 'Young', 'Young', 'Young', 'Young', 'Young', 'Young', 'Young', 'Young', 'Young', 'Young', 'Young', 'Young', 'Young', 'Young', 'Young', 'Young', 'Young', 'Young', 'Young', 'Young', 'Young', 'Young', 'Young', 'Young', 'Young', 'Young', 'Young', 'Young', 'Young', 'Young', 'Young', 'Young', 'Young', 'Young', 'Young', 'Young', 'Young', 'Young', 'Young', 'Young', 'Young', 'Young', 'Young', 'Young', 'Young', 'Young', 'Young', 'Young', 'Young', 'Young', 'Young', 'Young', 'Young', 'Young', 'Young', 'Young', 'Young', 'Young', 'Young', 'Young', 'Young', 'Young', 'Young', 'Young', 'Young', 'Young', 'Young', 'Young', 'Young', 'Young', 'Young', 'Young', 'Young', 'Young', 'Young', 'Young', 'Young', 'Young', 'Young', 'Young', 'Young', 'Young', 'Young', 'Young', 'Young', 'Young', 'Young', 'Young', 'Young', 'Young', 'Young', 'Young', 'Young', 'Young', 'Young', 'Young', 'Young', 'Young', 'Young', 'Young', 'Young', 'Young', 'Young', 'Young', 'Young', 'Young', 'Young', 'Young', 'Young', 'Young', 'Young', 'Young', 'Young', 'Young', 'Young', 'Young', 'Young', 'Young', 'Young', 'Young', 'Young', 'Young', 'Young', 'Young', 'Young', 'Young', 'Young', 'Young', 'Young', 'Young', 'Young', 'Young', 'Young', 'Young', 'Young', 'Young', 'Young', 'Young', 'Young', 'Young', 'Young', 'Young', 'Young', 'Young', 'Young', 'Young', 'Young', 'Young', 'Young', 'Young', 'Young', 'Young', 'Young', 'Young', 'Young', 'Young', 'Young', 'Young', 'Young', 'Young', 'Young', 'Young', 'Young', 'Young', 'Young', 'Young', 'Young', 'Young', 'Young', 'Young', 'Young', 'Young', 'Young', 'Young', 'Young', 'Young', 'Young', 'Young', 'Young', 'Young', 'Young', 'Young', 'Young', 'Young', 'Young', 'Young', 'Young', 'Young', 'Young', 'Young', 'Young', 'Young', 'Young', 'Young', 'Young', 'Young', 'Young', 'Young', 'Young', 'Young', 'Young', 'Young', 'Young', 'Young', 'Young', 'Young', 'Young', 'Young', 'Young', 'Young', 'Young', 'Young', 'Young', 'Young', 'Young', 'Young', 'Young', 'Young', 'Young', 'Young', 'Young', 'Young', 'Young', 'Young', 'Young', 'Young', 'Young', 'Young', 'Young', 'Young', 'Young', 'Young', 'Young', 'Young', 'Young', 'Young', 'Young', 'Young', 'Young', 'Young', 'Young', 'Young', 'Young', 'Young', 'Young', 'Young', 'Young', 'Young', 'Young', 'Young', 'Young', 'Young', 'Young', 'Young', 'Young', 'Young', 'Young', 'Young', 'Young', 'Young', 'Young', 'Young', 'Young', 'Young', 'Young', 'Young', 'Young', 'Young', 'Young', 'Young', 'Young', 'Young', 'Young', 'Young', 'Young', 'Young', 'Young', 'Young', 'Young', 'Young', 'Young', 'Young', 'Young', 'Young', 'Young', 'Young', 'Young', 'Young', 'Young', 'Young', 'Young', 'Young', 'Young', 'Young', 'Young', 'Young', 'Young', 'Young', 'Young', 'Young', 'Young', 'Young', 'Young', 'Young', 'Young', 'Young', 'Young', 'Young', 'Young', 'Young', 'Young', 'Young', 'Young', 'Young', 'Young', 'Young', 'Young', 'Young', 'Young', 'Young', 'Young', 'Young', 'Young', 'Young', 'Young', 'Young', 'Young', 'Young', 'Young', 'Young', 'Young', 'Young', 'Young', 'Young', 'Young', 'Young', 'Young', 'Young', 'Young', 'Young', 'Young', 'Young', 'Young', 'Young', 'Young', 'Young', 'Young', 'Young', 'Young', 'Young', 'Young', 'Young', 'Young', 'Young', 'Young', 'Young', 'Young', 'Young', 'Young', 'Young', 'Young', 'Young', 'Young', 'Young', 'Young', 'Young', 'Young', 'Young', 'Young', 'Young', 'Young', 'Young', 'Young', 'Young', 'Young', 'Young', 'Young', 'Young', 'Young', 'Young', 'Young', 'Young', 'Young', 'Young', 'Young', 'Young', 'Young', 'Young', 'Young', 'Young', 'Young', 'Young', 'Young', 'Young', 'Young', 'Young', 'Young', 'Young', 'Young', 'Young', 'Young', 'Young', 'Young', 'Young', 'Young', 'Young', 'Young', 'Young', 'Young', 'Young', 'Young', 'Young', 'Young', 'Young', 'Young', 'Young', 'Young', 'Young', 'Young', 'Young', 'Young', 'Young', 'Young', 'Young', 'Young', 'Young', 'Young', 'Young', 'Young', 'Young', 'Young', 'Young', 'Young', 'Young', 'Young', 'Young', 'Young', 'Young', 'Young', 'Young', 'Young', 'Young', 'Young', 'Young', 'Young', 'Young', 'Young', 'Young', 'Young', 'Young', 'Young', 'Young', 'Young', 'Young', 'Young', 'Young', 'Young', 'Young', 'Young', 'Young', 'Young', 'Young', 'Young', 'Young', 'Young', 'Young', 'Young', 'Young', 'Young', 'Young', 'Young', 'Young', 'Young', 'Young', 'Young', 'Young', 'Young', 'Young', 'Young', 'Young', 'Young', 'Young', 'Young', 'Young', 'Young', 'Young', 'Young', 'Young', 'Young', 'Young', 'Young', 'Young', 'Young', 'Young', 'Young', 'Young', 'Young', 'Young', 'Young', 'Young', 'Young', 'Young', 'Young', 'Young', 'Young', 'Young', 'Young', 'Young', 'Young', 'Young', 'Young', 'Young', 'Young', 'Young', 'Young', 'Young', 'Young', 'Young', 'Young', 'Young', 'Young', 'Young', 'Young', 'Young', 'Young', 'Young', 'Young', 'Young', 'Young', 'Young', 'Young', 'Young', 'Young', 'Young', 'Young', 'Young', 'Young', 'Young', 'Young', 'Young', 'Young', 'Young', 'Young', 'Young', 'Young', 'Young', 'Young', 'Young', 'Young', 'Young', 'Young', 'Young', 'Young', 'Young', 'Young', 'Young', 'Young', 'Young', 'Young', 'Young', 'Young', 'Young', 'Young', 'Young', 'Young', 'Young', 'Young', 'Young', 'Young', 'Young', 'Young', 'Young', 'Young', 'Young', 'Young', 'Young', 'Young', 'Young', 'Young', 'Young', 'Young', 'Young', 'Young', 'Young', 'Young', 'Young', 'Young', 'Young', 'Young', 'Young', 'Young', 'Young', 'Young', 'Young', 'Young', 'Young', 'Young', 'Young', 'Young', 'Young', 'Young', 'Young', 'Young', 'Young', 'Young', 'Young', 'Young', 'Young', 'Young', 'Young', 'Young', 'Young', 'Young', 'Young', 'Young', 'Young', 'Young', 'Young', 'Young', 'Young', 'Young', 'Young', 'Young', 'Young', 'Young', 'Young', 'Young', 'Young', 'Young', 'Young', 'Young', 'Young', 'Young', 'Young', 'Young', 'Young', 'Young', 'Young', 'Young', 'Young', 'Young', 'Young', 'Young', 'Young', 'Young', 'Young', 'Young', 'Young', 'Young', 'Young', 'Young', 'Young', 'Young', 'Young', 'Young', 'Young', 'Young', 'Young', 'Young', 'Young', 'Young', 'Young', 'Young', 'Young', 'Young', 'Young', 'Young', 'Young', 'Young', 'Young', 'Young', 'Young', 'Young', 'Young', 'Young', 'Young', 'Young', 'Young', 'Young', 'Young', 'Young', 'Young', 'Young', 'Young', 'Young', 'Young', 'Young', 'Young', 'Young', 'Young', 'Young', 'Young', 'Adult', 'Adult', 'Adult', 'Adult', 'Adult', 'Adult', 'Adult', 'Adult', 'Adult', 'Adult', 'Adult', 'Adult', 'Adult', 'Adult', 'Adult', 'Adult', 'Adult', 'Adult', 'Adult', 'Adult', 'Adult', 'Adult', 'Adult', 'Adult', 'Adult', 'Adult', 'Adult', 'Adult', 'Adult', 'Adult', 'Adult', 'Adult', 'Adult', 'Adult', 'Adult', 'Adult', 'Adult', 'Adult', 'Adult', 'Adult', 'Adult', 'Adult', 'Adult', 'Adult', 'Adult', 'Adult', 'Adult', 'Adult', 'Adult', 'Adult', 'Adult', 'Adult', 'Adult', 'Adult', 'Adult', 'Adult', 'Adult', 'Adult', 'Adult', 'Adult', 'Adult', 'Adult', 'Adult', 'Adult', 'Adult', 'Adult', 'Adult', 'Adult', 'Adult', 'Adult', 'Adult', 'Adult', 'Adult', 'Adult', 'Adult', 'Adult', 'Adult', 'Adult', 'Adult', 'Adult', 'Adult', 'Adult', 'Adult', 'Adult', 'Adult', 'Adult', 'Adult', 'Adult', 'Adult', 'Adult', 'Adult', 'Adult', 'Adult', 'Adult', 'Adult', 'Adult', 'Adult', 'Adult', 'Adult', 'Adult', 'Adult', 'Adult', 'Adult', 'Adult', 'Adult', 'Adult', 'Adult', 'Adult', 'Adult', 'Adult', 'Adult', 'Adult', 'Adult', 'Adult', 'Adult', 'Adult', 'Adult', 'Adult', 'Adult', 'Adult', 'Adult', 'Adult', 'Adult', 'Adult', 'Adult', 'Adult', 'Adult', 'Adult', 'Adult', 'Adult', 'Adult', 'Adult', 'Adult', 'Adult', 'Adult', 'Adult', 'Adult', 'Adult', 'Adult', 'Adult', 'Adult', 'Adult', 'Adult', 'Adult', 'Adult', 'Adult', 'Adult', 'Adult', 'Adult', 'Adult', 'Adult', 'Adult', 'Adult', 'Adult', 'Adult', 'Adult', 'Adult', 'Adult', 'Adult', 'Adult', 'Adult', 'Adult', 'Adult', 'Adult', 'Adult', 'Adult', 'Adult', 'Adult', 'Adult', 'Adult', 'Adult', 'Adult', 'Adult', 'Adult', 'Adult', 'Adult', 'Adult', 'Adult', 'Adult', 'Adult', 'Adult', 'Adult', 'Adult', 'Adult', 'Adult', 'Adult', 'Adult', 'Adult', 'Adult', 'Adult', 'Adult', 'Adult', 'Adult', 'Adult', 'Adult', 'Adult', 'Adult', 'Adult', 'Adult', 'Adult', 'Adult', 'Adult', 'Adult', 'Adult', 'Adult', 'Adult', 'Adult', 'Adult', 'Adult', 'Adult', 'Adult', 'Adult', 'Adult', 'Adult', 'Adult', 'Adult', 'Adult', 'Adult', 'Adult', 'Adult', 'Adult', 'Adult', 'Adult', 'Adult', 'Adult', 'Adult', 'Adult', 'Adult', 'Adult', 'Adult', 'Adult', 'Adult', 'Adult', 'Adult', 'Adult', 'Adult', 'Adult', 'Adult', 'Adult', 'Adult', 'Adult', 'Adult', 'Adult', 'Adult', 'Adult', 'Adult', 'Adult', 'Adult', 'Adult', 'Adult', 'Adult', 'Adult', 'Adult', 'Adult', 'Adult', 'Adult', 'Adult', 'Adult', 'Adult', 'Adult', 'Adult', 'Adult', 'Adult', 'Adult', 'Adult', 'Adult', 'Adult', 'Adult', 'Adult', 'Adult', 'Adult', 'Adult', 'Adult', 'Adult', 'Adult', 'Adult', 'Adult', 'Adult', 'Adult', 'Adult', 'Adult', 'Adult', 'Adult', 'Adult', 'Adult', 'Adult', 'Adult', 'Adult', 'Adult', 'Adult', 'Adult', 'Adult', 'Adult', 'Adult', 'Adult', 'Adult', 'Adult', 'Adult', 'Adult', 'Adult', 'Adult', 'Adult', 'Adult', 'Adult', 'Adult', 'Adult', 'Adult', 'Adult', 'Adult', 'Adult', 'Adult', 'Adult', 'Adult', 'Adult', 'Adult', 'Adult', 'Adult', 'Adult', 'Adult', 'Adult', 'Adult', 'Adult', 'Adult', 'Adult', 'Adult', 'Adult', 'Adult', 'Adult', 'Adult', 'Adult', 'Adult', 'Adult', 'Adult', 'Adult', 'Adult', 'Adult', 'Adult', 'Adult', 'Adult', 'Adult', 'Adult', 'Adult', 'Adult', 'Adult', 'Adult', 'Adult', 'Adult', 'Adult', 'Adult', 'Adult', 'Adult', 'Adult', 'Adult', 'Adult', 'Adult', 'Adult', 'Adult', 'Adult', 'Adult', 'Adult', 'Adult', 'Adult', 'Adult', 'Adult', 'Adult', 'Adult', 'Adult', 'Adult', 'Adult', 'Adult', 'Adult', 'Adult', 'Adult', 'Adult', 'Adult', 'Adult', 'Adult', 'Adult', 'Adult', 'Adult', 'Adult', 'Adult', 'Adult', 'Adult', 'Adult', 'Adult', 'Adult', 'Adult', 'Adult', 'Adult', 'Adult', 'Adult', 'Adult', 'Adult', 'Adult', 'Adult', 'Adult', 'Adult', 'Adult', 'Adult', 'Adult', 'Adult', 'Adult', 'Adult', 'Adult', 'Adult', 'Adult', 'Adult', 'Adult', 'Adult', 'Adult', 'Adult', 'Adult', 'Adult', 'Adult', 'Adult', 'Adult', 'Adult', 'Adult', 'Adult', 'Adult', 'Adult', 'Adult', 'Adult', 'Adult', 'Adult', 'Adult', 'Adult', 'Adult', 'Adult', 'Adult', 'Adult', 'Adult', 'Adult', 'Adult', 'Adult', 'Adult', 'Adult', 'Adult', 'Adult', 'Adult', 'Adult', 'Adult', 'Adult', 'Adult', 'Adult', 'Adult', 'Adult', 'Adult', 'Adult', 'Adult', 'Adult', 'Adult', 'Adult', 'Adult', 'Adult', 'Adult', 'Adult', 'Adult', 'Adult', 'Adult', 'Adult', 'Adult', 'Adult', 'Adult', 'Adult', 'Adult', 'Adult', 'Adult', 'Adult', 'Adult', 'Adult', 'Adult', 'Adult', 'Adult', 'Adult', 'Adult', 'Adult', 'Adult', 'Adult', 'Adult', 'Adult', 'Adult', 'Adult', 'Adult', 'Adult', 'Adult', 'Adult', 'Adult', 'Adult', 'Adult', 'Adult', 'Adult', 'Adult', 'Adult', 'Adult', 'Adult', 'Adult', 'Adult', 'Adult', 'Adult', 'Adult', 'Adult', 'Adult', 'Adult', 'Adult', 'Adult', 'Adult', 'Adult', 'Adult', 'Adult', 'Adult', 'Adult', 'Adult', 'Adult', 'Adult', 'Adult', 'Adult', 'Adult', 'Adult', 'Adult', 'Adult', 'Adult', 'Adult', 'Adult', 'Adult', 'Adult', 'Adult', 'Adult', 'Adult', 'Adult', 'Adult', 'Adult', 'Adult', 'Adult', 'Adult', 'Adult', 'Adult', 'Adult', 'Adult', 'Adult', 'Adult', 'Adult', 'Adult', 'Adult', 'Adult', 'Adult', 'Adult', 'Adult', 'Adult', 'Adult', 'Adult', 'Adult', 'Adult', 'Adult', 'Adult', 'Adult', 'Adult', 'Adult', 'Adult', 'Adult', 'Adult', 'Adult', 'Adult', 'Adult', 'Adult', 'Adult', 'Adult', 'Adult', 'Adult', 'Adult', 'Adult', 'Adult', 'Adult', 'Adult', 'Adult', 'Adult', 'Adult', 'Adult', 'Adult', 'Adult', 'Adult', 'Adult', 'Adult', 'Adult', 'Adult', 'Adult', 'Adult', 'Adult', 'Adult', 'Adult', 'Adult', 'Adult', 'Adult', 'Adult', 'Adult', 'Adult', 'Adult', 'Adult', 'Adult', 'Adult', 'Adult', 'Adult', 'Adult', 'Adult', 'Adult', 'Adult', 'Adult', 'Adult', 'Adult', 'Adult', 'Adult', 'Adult', 'Adult', 'Adult', 'Adult', 'Adult', 'Adult', 'Adult', 'Adult', 'Adult', 'Adult', 'Adult', 'Adult', 'Adult', 'Adult', 'Adult', 'Adult', 'Adult', 'Adult', 'Adult', 'Adult', 'Adult', 'Adult', 'Adult', 'Adult', 'Adult', 'Adult', 'Adult', 'Adult', 'Adult', 'Adult', 'Adult', 'Adult', 'Adult', 'Adult', 'Adult', 'Adult', 'Adult', 'Adult', 'Adult', 'Adult', 'Adult', 'Adult', 'Adult', 'Adult', 'Adult', 'Adult', 'Adult', 'Adult', 'Adult', 'Adult', 'Adult', 'Adult', 'Adult', 'Adult', 'Adult', 'Adult', 'Adult', 'Adult', 'Adult', 'Adult', 'Adult', 'Adult', 'Adult', 'Adult', 'Adult', 'Adult', 'Adult', 'Adult', 'Adult', 'Adult', 'Adult', 'Adult', 'Adult', 'Adult', 'Adult', 'Adult', 'Adult', 'Adult', 'Adult', 'Adult', 'Adult', 'Adult', 'Adult', 'Adult', 'Adult', 'Adult', 'Adult', 'Adult', 'Adult', 'Adult', 'Adult', 'Adult', 'Adult', 'Adult', 'Adult', 'Adult', 'Adult', 'Adult', 'Adult', 'Adult', 'Adult', 'Adult', 'Adult', 'Adult', 'Adult', 'Adult', 'Adult', 'Adult', 'Adult', 'Adult', 'Adult', 'Adult', 'Adult', 'Adult', 'Adult', 'Adult', 'Adult', 'Adult', 'Adult', 'Adult', 'Adult', 'Adult', 'Adult', 'Adult', 'Adult', 'Adult', 'Adult', 'Adult', 'Adult', 'Adult', 'Adult', 'Adult', 'Adult', 'Adult', 'Adult', 'Adult', 'Adult', 'Adult', 'Adult', 'Adult', 'Adult', 'Adult', 'Adult', 'Adult', 'Adult', 'Adult', 'Adult', 'Adult', 'Adult', 'Adult', 'Adult', 'Adult', 'Adult', 'Adult', 'Adult', 'Adult', 'Adult', 'Adult', 'Adult', 'Adult', 'Adult', 'Adult', 'Adult', 'Adult', 'Adult', 'Adult', 'Adult', 'Adult', 'Adult', 'Adult', 'Adult', 'Adult', 'Adult', 'Adult', 'Adult', 'Adult', 'Adult', 'Adult', 'Adult', 'Adult', 'Adult', 'Adult', 'Adult', 'Adult', 'Adult', 'Adult', 'Adult', 'Adult', 'Adult', 'Adult', 'Adult', 'Adult', 'Adult', 'Adult', 'Adult', 'Adult', 'Adult', 'Adult', 'Adult', 'Adult', 'Adult', 'Adult', 'Adult', 'Adult', 'Adult', 'Adult', 'Adult', 'Adult', 'Adult', 'Adult', 'Adult', 'Adult', 'Adult', 'Adult', 'Adult', 'Adult', 'Adult', 'Adult', 'Adult', 'Adult', 'Adult', 'Adult', 'Adult', 'Adult', 'Adult', 'Adult', 'Adult', 'Adult', 'Adult', 'Adult', 'Adult', 'Adult', 'Adult', 'Adult', 'Adult', 'Adult', 'Adult', 'Adult', 'Adult', 'Adult', 'Adult', 'Adult', 'Adult', 'Adult', 'Adult', 'Adult', 'Adult', 'Adult', 'Adult', 'Adult', 'Adult', 'Adult', 'Adult', 'Adult', 'Adult', 'Adult', 'Adult', 'Adult', 'Adult', 'Adult', 'Adult', 'Adult', 'Adult', 'Adult', 'Adult', 'Adult', 'Adult', 'Adult', 'Adult', 'Adult', 'Adult', 'Adult', 'Adult', 'Adult', 'Adult', 'Adult', 'Adult', 'Adult', 'Adult', 'Adult', 'Adult', 'Adult', 'Adult', 'Adult', 'Adult', 'Adult', 'Adult', 'Adult', 'Adult', 'Adult', 'Adult', 'Adult', 'Adult', 'Adult', 'Adult', 'Adult', 'Adult', 'Adult', 'Adult', 'Adult', 'Adult', 'Adult', 'Adult', 'Adult', 'Adult', 'Adult', 'Adult', 'Adult', 'Adult', 'Adult', 'Adult', 'Adult', 'Adult', 'Adult', 'Adult', 'Adult', 'Adult', 'Adult', 'Adult', 'Adult', 'Adult', 'Adult', 'Adult', 'Adult', 'Adult', 'Adult', 'Adult', 'Adult', 'Adult', 'Adult', 'Adult', 'Adult', 'Adult', 'Adult', 'Adult', 'Adult', 'Adult', 'Adult', 'Adult', 'Adult', 'Adult', 'Adult', 'Adult', 'Adult', 'Adult', 'Adult', 'Adult', 'Adult', 'Adult', 'Adult', 'Adult', 'Adult', 'Adult', 'Adult', 'Adult', 'Adult', 'Adult', 'Adult', 'Adult', 'Adult', 'Adult', 'Adult', 'Adult', 'Adult', 'Adult', 'Adult', 'Adult', 'Adult', 'Adult', 'Adult', 'Adult', 'Adult', 'Adult', 'Adult', 'Adult', 'Adult', 'Adult', 'Adult', 'Adult', 'Adult', 'Adult', 'Adult', 'Adult', 'Adult', 'Adult', 'Adult', 'Adult', 'Adult', 'Adult', 'Young', 'Young', 'Young', 'Young', 'Young', 'Adult', 'Adult', 'Adult', 'Adult', 'Young', 'Adult', 'Adult', 'Adult', 'Adult', 'Young', 'Young', 'Adult', 'Adult', 'Young', 'Adult', 'Young', 'Young', 'Young', 'Adult', 'Adult', 'Adult', 'Adult', 'Adult', 'Adult', 'Adult', 'Young', 'Adult', 'Adult', 'Young', 'Young', 'Young', 'Adult', 'Young', 'Adult', 'Young', 'Adult', 'Adult', 'Young', 'Adult', 'Young', 'Adult', 'Young', 'Adult', 'Adult', 'Young', 'Adult', 'Young', 'Young', 'Young', 'Young', 'Young', 'Young', 'Young', 'Young', 'Adult', 'Adult', 'Young', 'Young', 'Young', 'Young', 'Adult', 'Young', 'Young', 'Adult', 'Young', 'Young', 'Adult', 'Young', 'Adult', 'Young', 'Adult', 'Adult', 'Adult', 'Young', 'Young', 'Adult', 'Adult', 'Adult', 'Adult', 'Adult', 'Young', 'Young', 'Adult', 'Adult', 'Young', 'Young', 'Young', 'Adult', 'Young', 'Adult', 'Young', 'Young', 'Adult', 'Adult', 'Young', 'Adult', 'Young', 'Young', 'Young', 'Adult', 'Adult', 'Adult', 'Young', 'Young', 'Adult', 'Adult', 'Adult', 'Young', 'Young', 'Young', 'Adult', 'Young', 'Adult', 'Adult', 'Adult', 'Adult', 'Young', 'Adult', 'Adult', 'Young', 'Young', 'Adult', 'Adult', 'Young', 'Young', 'Young', 'Adult', 'Young', 'Young', 'Young', 'Adult', 'Adult', 'Adult', 'Adult', 'Young', 'Adult', 'Adult', 'Adult', 'Adult', 'Young', 'Adult', 'Adult', 'Young', 'Adult', 'Young', 'Adult', 'Young', 'Young', 'Young', 'Adult', 'Adult', 'Young', 'Young', 'Adult', 'Young', 'Young', 'Young', 'Adult', 'Young', 'Adult', 'Young', 'Adult', 'Adult', 'Adult', 'Young', 'Young', 'Adult', 'Young', 'Young', 'Adult', 'Young', 'Adult', 'Adult', 'Adult', 'Adult', 'Young', 'Young', 'Young', 'Adult', 'Young', 'Young', 'Young', 'Adult', 'Young', 'Adult', 'Adult', 'Young', 'Adult', 'Adult', 'Young', 'Young', 'Adult', 'Young', 'Adult', 'Young', 'Young', 'Adult', 'Young', 'Adult', 'Young', 'Adult', 'Adult', 'Young', 'Adult', 'Young', 'Young', 'Adult', 'Young', 'Adult', 'Adult', 'Young', 'Adult', 'Adult', 'Young', 'Young', 'Young', 'Young', 'Adult', 'Young', 'Young', 'Adult', 'Adult', 'Young', 'Adult', 'Adult', 'Young', 'Young', 'Adult', 'Young', 'Young', 'Young', 'Adult', 'Adult', 'Adult', 'Adult', 'Young', 'Adult', 'Adult', 'Young', 'Young', 'Adult', 'Adult', 'Adult', 'Young', 'Adult', 'Adult', 'Young', 'Young', 'Young', 'Adult', 'Young', 'Adult', 'Young', 'Adult', 'Adult', 'Adult', 'Young', 'Young', 'Adult', 'Young', 'Adult', 'Young', 'Adult', 'Young', 'Adult', 'Adult', 'Adult', 'Young', 'Young', 'Adult', 'Adult', 'Adult', 'Adult', 'Young', 'Young', 'Young', 'Young', 'Adult', 'Young', 'Adult', 'Adult', 'Adult', 'Young', 'Adult', 'Young', 'Adult', 'Young', 'Young', 'Young', 'Adult', 'Young', 'Adult', 'Adult', 'Young', 'Adult', 'Young', 'Adult', 'Adult', 'Young', 'Adult', 'Adult', 'Young', 'Adult', 'Adult', 'Young', 'Adult', 'Adult', 'Adult', 'Adult', 'Young', 'Adult', 'Adult', 'Young', 'Young', 'Adult', 'Adult', 'Young', 'Adult', 'Young', 'Adult', 'Young', 'Adult', 'Young', 'Young', 'Young', 'Adult', 'Adult', 'Young', 'Young', 'Young', 'Adult', 'Adult', 'Adult', 'Young', 'Adult', 'Young', 'Adult', 'Adult', 'Adult', 'Adult', 'Young', 'Adult', 'Young', 'Young', 'Young', 'Adult', 'Adult', 'Young', 'Adult', 'Adult', 'Adult', 'Adult', 'Adult', 'Young', 'Adult', 'Adult', 'Adult', 'Young', 'Young', 'Adult', 'Adult', 'Young', 'Young', 'Young', 'Young', 'Adult', 'Adult', 'Young', 'Young', 'Young', 'Adult', 'Adult', 'Adult', 'Adult', 'Adult', 'Young', 'Adult', 'Young', 'Young', 'Young', 'Adult', 'Young', 'Young', 'Adult', 'Adult', 'Young', 'Adult', 'Young', 'Young', 'Young', 'Adult', 'Adult', 'Adult', 'Young', 'Young', 'Adult', 'Adult', 'Young', 'Adult', 'Adult', 'Adult', 'Adult', 'Adult', 'Adult', 'Young', 'Adult', 'Adult', 'Adult', 'Young', 'Adult', 'Young', 'Adult', 'Young', 'Young', 'Adult', 'Young', 'Young', 'Young', 'Young', 'Adult', 'Adult', 'Adult', 'Young', 'Adult', 'Adult', 'Young', 'Young', 'Young', 'Adult', 'Young', 'Adult', 'Adult', 'Adult', 'Young', 'Adult', 'Young', 'Young', 'Young', 'Adult', 'Young', 'Young', 'Adult', 'Adult', 'Adult', 'Adult', 'Adult', 'Adult', 'Young', 'Young', 'Young', 'Young', 'Adult', 'Adult', 'Adult', 'Adult', 'Young', 'Young', 'Adult', 'Young', 'Young', 'Adult', 'Adult', 'Adult', 'Young', 'Young', 'Adult', 'Adult', 'Adult', 'Young', 'Adult', 'Adult', 'Young', 'Young', 'Adult', 'Young', 'Adult', 'Young', 'Adult', 'Young', 'Young', 'Young', 'Adult', 'Adult', 'Young', 'Young', 'Young', 'Adult', 'Adult', 'Young', 'Adult', 'Young', 'Adult', 'Adult', 'Adult', 'Adult', 'Young', 'Adult', 'Adult', 'Adult', 'Adult', 'Adult', 'Adult', 'Adult', 'Adult', 'Adult', 'Adult', 'Young', 'Adult', 'Adult', 'Young', 'Adult', 'Adult', 'Young', 'Adult', 'Young', 'Adult', 'Young', 'Young', 'Adult', 'Adult', 'Adult', 'Young', 'Adult', 'Young', 'Young', 'Adult', 'Adult', 'Young', 'Young', 'Young', 'Young', 'Adult', 'Adult', 'Adult', 'Young', 'Adult', 'Young', 'Adult', 'Young', 'Young', 'Young', 'Adult', 'Young', 'Young', 'Young', 'Young', 'Young', 'Young', 'Young', 'Adult', 'Young', 'Adult', 'Young', 'Adult', 'Young', 'Young', 'Adult', 'Adult', 'Young', 'Young', 'Adult', 'Adult', 'Adult', 'Adult', 'Young', 'Young', 'Adult', 'Young', 'Young', 'Adult', 'Young', 'Young', 'Adult', 'Adult', 'Adult', 'Adult', 'Young', 'Adult', 'Adult', 'Adult', 'Young', 'Adult', 'Adult', 'Young', 'Young', 'Young', 'Adult', 'Adult', 'Adult', 'Adult', 'Young', 'Adult', 'Adult', 'Adult', 'Adult', 'Young', 'Young', 'Young', 'Adult', 'Young', 'Young', 'Young', 'Adult', 'Adult', 'Adult', 'Adult', 'Adult', 'Young', 'Adult', 'Adult', 'Adult', 'Young', 'Adult', 'Young', 'Young', 'Young', 'Young', 'Young', 'Young', 'Adult', 'Adult', 'Adult', 'Adult', 'Adult', 'Adult', 'Adult', 'Young', 'Young', 'Adult', 'Adult', 'Young', 'Young', 'Adult', 'Adult', 'Young', 'Adult', 'Adult', 'Adult', 'Adult', 'Young', 'Adult', 'Adult', 'Young', 'Young', 'Adult', 'Adult', 'Adult', 'Adult', 'Adult', 'Adult', 'Young', 'Young', 'Young', 'Adult', 'Young', 'Young', 'Adult']\n"
     ]
    }
   ],
   "source": [
    "age=[]\n",
    "for x in dataset['Age']:\n",
    "    if x>=21 and x<31:\n",
    "        age.append(\"Young\")\n",
    "    else:\n",
    "        age.append(\"Adult\")\n",
    "print(age)"
   ]
  },
  {
   "cell_type": "code",
   "execution_count": 12,
   "id": "24189d25",
   "metadata": {
    "scrolled": true
   },
   "outputs": [],
   "source": [
    "dataset.insert(0,\"AGE\",age)"
   ]
  },
  {
   "cell_type": "code",
   "execution_count": 13,
   "id": "11c2917d",
   "metadata": {
    "scrolled": true
   },
   "outputs": [
    {
     "data": {
      "text/html": [
       "<div>\n",
       "<style scoped>\n",
       "    .dataframe tbody tr th:only-of-type {\n",
       "        vertical-align: middle;\n",
       "    }\n",
       "\n",
       "    .dataframe tbody tr th {\n",
       "        vertical-align: top;\n",
       "    }\n",
       "\n",
       "    .dataframe thead th {\n",
       "        text-align: right;\n",
       "    }\n",
       "</style>\n",
       "<table border=\"1\" class=\"dataframe\">\n",
       "  <thead>\n",
       "    <tr style=\"text-align: right;\">\n",
       "      <th></th>\n",
       "      <th>AGE</th>\n",
       "      <th>Education</th>\n",
       "      <th>JoiningYear</th>\n",
       "      <th>City</th>\n",
       "      <th>PaymentTier</th>\n",
       "      <th>Age</th>\n",
       "      <th>Gender</th>\n",
       "      <th>EverBenched</th>\n",
       "      <th>ExperienceInCurrentDomain</th>\n",
       "      <th>LeaveOrNot</th>\n",
       "    </tr>\n",
       "  </thead>\n",
       "  <tbody>\n",
       "    <tr>\n",
       "      <th>0</th>\n",
       "      <td>Adult</td>\n",
       "      <td>Bachelors</td>\n",
       "      <td>2017</td>\n",
       "      <td>Bangalore</td>\n",
       "      <td>3</td>\n",
       "      <td>34</td>\n",
       "      <td>Male</td>\n",
       "      <td>No</td>\n",
       "      <td>0</td>\n",
       "      <td>0</td>\n",
       "    </tr>\n",
       "    <tr>\n",
       "      <th>1</th>\n",
       "      <td>Young</td>\n",
       "      <td>Bachelors</td>\n",
       "      <td>2013</td>\n",
       "      <td>Pune</td>\n",
       "      <td>1</td>\n",
       "      <td>28</td>\n",
       "      <td>Female</td>\n",
       "      <td>No</td>\n",
       "      <td>3</td>\n",
       "      <td>1</td>\n",
       "    </tr>\n",
       "    <tr>\n",
       "      <th>2</th>\n",
       "      <td>Adult</td>\n",
       "      <td>Bachelors</td>\n",
       "      <td>2014</td>\n",
       "      <td>New Delhi</td>\n",
       "      <td>3</td>\n",
       "      <td>38</td>\n",
       "      <td>Female</td>\n",
       "      <td>No</td>\n",
       "      <td>2</td>\n",
       "      <td>0</td>\n",
       "    </tr>\n",
       "    <tr>\n",
       "      <th>3</th>\n",
       "      <td>Young</td>\n",
       "      <td>Masters</td>\n",
       "      <td>2016</td>\n",
       "      <td>Bangalore</td>\n",
       "      <td>3</td>\n",
       "      <td>27</td>\n",
       "      <td>Male</td>\n",
       "      <td>No</td>\n",
       "      <td>5</td>\n",
       "      <td>1</td>\n",
       "    </tr>\n",
       "    <tr>\n",
       "      <th>4</th>\n",
       "      <td>Young</td>\n",
       "      <td>Masters</td>\n",
       "      <td>2017</td>\n",
       "      <td>Pune</td>\n",
       "      <td>3</td>\n",
       "      <td>24</td>\n",
       "      <td>Male</td>\n",
       "      <td>Yes</td>\n",
       "      <td>2</td>\n",
       "      <td>1</td>\n",
       "    </tr>\n",
       "    <tr>\n",
       "      <th>...</th>\n",
       "      <td>...</td>\n",
       "      <td>...</td>\n",
       "      <td>...</td>\n",
       "      <td>...</td>\n",
       "      <td>...</td>\n",
       "      <td>...</td>\n",
       "      <td>...</td>\n",
       "      <td>...</td>\n",
       "      <td>...</td>\n",
       "      <td>...</td>\n",
       "    </tr>\n",
       "    <tr>\n",
       "      <th>4648</th>\n",
       "      <td>Young</td>\n",
       "      <td>Bachelors</td>\n",
       "      <td>2013</td>\n",
       "      <td>Bangalore</td>\n",
       "      <td>3</td>\n",
       "      <td>26</td>\n",
       "      <td>Female</td>\n",
       "      <td>No</td>\n",
       "      <td>4</td>\n",
       "      <td>0</td>\n",
       "    </tr>\n",
       "    <tr>\n",
       "      <th>4649</th>\n",
       "      <td>Adult</td>\n",
       "      <td>Masters</td>\n",
       "      <td>2013</td>\n",
       "      <td>Pune</td>\n",
       "      <td>2</td>\n",
       "      <td>37</td>\n",
       "      <td>Male</td>\n",
       "      <td>No</td>\n",
       "      <td>2</td>\n",
       "      <td>1</td>\n",
       "    </tr>\n",
       "    <tr>\n",
       "      <th>4650</th>\n",
       "      <td>Young</td>\n",
       "      <td>Masters</td>\n",
       "      <td>2018</td>\n",
       "      <td>New Delhi</td>\n",
       "      <td>3</td>\n",
       "      <td>27</td>\n",
       "      <td>Male</td>\n",
       "      <td>No</td>\n",
       "      <td>5</td>\n",
       "      <td>1</td>\n",
       "    </tr>\n",
       "    <tr>\n",
       "      <th>4651</th>\n",
       "      <td>Young</td>\n",
       "      <td>Bachelors</td>\n",
       "      <td>2012</td>\n",
       "      <td>Bangalore</td>\n",
       "      <td>3</td>\n",
       "      <td>30</td>\n",
       "      <td>Male</td>\n",
       "      <td>Yes</td>\n",
       "      <td>2</td>\n",
       "      <td>0</td>\n",
       "    </tr>\n",
       "    <tr>\n",
       "      <th>4652</th>\n",
       "      <td>Adult</td>\n",
       "      <td>Bachelors</td>\n",
       "      <td>2015</td>\n",
       "      <td>Bangalore</td>\n",
       "      <td>3</td>\n",
       "      <td>33</td>\n",
       "      <td>Male</td>\n",
       "      <td>Yes</td>\n",
       "      <td>4</td>\n",
       "      <td>0</td>\n",
       "    </tr>\n",
       "  </tbody>\n",
       "</table>\n",
       "<p>4653 rows × 10 columns</p>\n",
       "</div>"
      ],
      "text/plain": [
       "        AGE  Education  JoiningYear       City  PaymentTier  Age  Gender  \\\n",
       "0     Adult  Bachelors         2017  Bangalore            3   34    Male   \n",
       "1     Young  Bachelors         2013       Pune            1   28  Female   \n",
       "2     Adult  Bachelors         2014  New Delhi            3   38  Female   \n",
       "3     Young    Masters         2016  Bangalore            3   27    Male   \n",
       "4     Young    Masters         2017       Pune            3   24    Male   \n",
       "...     ...        ...          ...        ...          ...  ...     ...   \n",
       "4648  Young  Bachelors         2013  Bangalore            3   26  Female   \n",
       "4649  Adult    Masters         2013       Pune            2   37    Male   \n",
       "4650  Young    Masters         2018  New Delhi            3   27    Male   \n",
       "4651  Young  Bachelors         2012  Bangalore            3   30    Male   \n",
       "4652  Adult  Bachelors         2015  Bangalore            3   33    Male   \n",
       "\n",
       "     EverBenched  ExperienceInCurrentDomain  LeaveOrNot  \n",
       "0             No                          0           0  \n",
       "1             No                          3           1  \n",
       "2             No                          2           0  \n",
       "3             No                          5           1  \n",
       "4            Yes                          2           1  \n",
       "...          ...                        ...         ...  \n",
       "4648          No                          4           0  \n",
       "4649          No                          2           1  \n",
       "4650          No                          5           1  \n",
       "4651         Yes                          2           0  \n",
       "4652         Yes                          4           0  \n",
       "\n",
       "[4653 rows x 10 columns]"
      ]
     },
     "execution_count": 13,
     "metadata": {},
     "output_type": "execute_result"
    }
   ],
   "source": [
    "dataset"
   ]
  },
  {
   "cell_type": "code",
   "execution_count": 14,
   "id": "adb8c558",
   "metadata": {},
   "outputs": [
    {
     "data": {
      "text/plain": [
       "Young    3250\n",
       "Adult    1403\n",
       "Name: AGE, dtype: int64"
      ]
     },
     "execution_count": 14,
     "metadata": {},
     "output_type": "execute_result"
    }
   ],
   "source": [
    "dataset['AGE'].value_counts()"
   ]
  },
  {
   "cell_type": "code",
   "execution_count": 15,
   "id": "40ad95ff",
   "metadata": {},
   "outputs": [
    {
     "name": "stderr",
     "output_type": "stream",
     "text": [
      "C:\\ProgramData\\Anaconda3\\lib\\site-packages\\seaborn\\_decorators.py:36: FutureWarning: Pass the following variable as a keyword arg: x. From version 0.12, the only valid positional argument will be `data`, and passing other arguments without an explicit keyword will result in an error or misinterpretation.\n",
      "  warnings.warn(\n"
     ]
    },
    {
     "data": {
      "text/plain": [
       "<AxesSubplot:xlabel='AGE', ylabel='count'>"
      ]
     },
     "execution_count": 15,
     "metadata": {},
     "output_type": "execute_result"
    },
    {
     "data": {
      "image/png": "[encoded data removed]",
      "text/plain": [
       "<Figure size 432x288 with 1 Axes>"
      ]
     },
     "metadata": {
      "needs_background": "light"
     },
     "output_type": "display_data"
    }
   ],
   "source": [
    "sns.countplot(dataset['AGE'],hue=dataset['LeaveOrNot'])"
   ]
  },
  {
   "cell_type": "code",
   "execution_count": 16,
   "id": "ba9bab57",
   "metadata": {
    "scrolled": true
   },
   "outputs": [
    {
     "name": "stderr",
     "output_type": "stream",
     "text": [
      "C:\\ProgramData\\Anaconda3\\lib\\site-packages\\seaborn\\_decorators.py:36: FutureWarning: Pass the following variable as a keyword arg: x. From version 0.12, the only valid positional argument will be `data`, and passing other arguments without an explicit keyword will result in an error or misinterpretation.\n",
      "  warnings.warn(\n"
     ]
    },
    {
     "data": {
      "text/plain": [
       "<AxesSubplot:xlabel='Gender', ylabel='count'>"
      ]
     },
     "execution_count": 16,
     "metadata": {},
     "output_type": "execute_result"
    },
    {
     "data": {
      "image/png": "[encoded data removed]",
      "text/plain": [
       "<Figure size 432x288 with 1 Axes>"
      ]
     },
     "metadata": {
      "needs_background": "light"
     },
     "output_type": "display_data"
    }
   ],
   "source": [
    "sns.countplot(dataset['Gender'],hue=dataset['LeaveOrNot'])"
   ]
  },
  {
   "cell_type": "code",
   "execution_count": 17,
   "id": "66ca2112",
   "metadata": {},
   "outputs": [
    {
     "name": "stderr",
     "output_type": "stream",
     "text": [
      "C:\\ProgramData\\Anaconda3\\lib\\site-packages\\seaborn\\_decorators.py:36: FutureWarning: Pass the following variable as a keyword arg: x. From version 0.12, the only valid positional argument will be `data`, and passing other arguments without an explicit keyword will result in an error or misinterpretation.\n",
      "  warnings.warn(\n"
     ]
    },
    {
     "data": {
      "text/plain": [
       "<AxesSubplot:xlabel='EverBenched', ylabel='count'>"
      ]
     },
     "execution_count": 17,
     "metadata": {},
     "output_type": "execute_result"
    },
    {
     "data": {
      "image/png": "[encoded data removed]",
      "text/plain": [
       "<Figure size 432x288 with 1 Axes>"
      ]
     },
     "metadata": {
      "needs_background": "light"
     },
     "output_type": "display_data"
    }
   ],
   "source": [
    "sns.countplot(dataset['EverBenched'],hue=dataset['LeaveOrNot'])"
   ]
  },
  {
   "cell_type": "code",
   "execution_count": 18,
   "id": "a497cc17",
   "metadata": {},
   "outputs": [
    {
     "name": "stderr",
     "output_type": "stream",
     "text": [
      "C:\\ProgramData\\Anaconda3\\lib\\site-packages\\seaborn\\_decorators.py:36: FutureWarning: Pass the following variable as a keyword arg: x. From version 0.12, the only valid positional argument will be `data`, and passing other arguments without an explicit keyword will result in an error or misinterpretation.\n",
      "  warnings.warn(\n"
     ]
    },
    {
     "data": {
      "text/plain": [
       "<AxesSubplot:xlabel='ExperienceInCurrentDomain', ylabel='count'>"
      ]
     },
     "execution_count": 18,
     "metadata": {},
     "output_type": "execute_result"
    },
    {
     "data": {
      "image/png": "[encoded data removed]",
      "text/plain": [
       "<Figure size 432x288 with 1 Axes>"
      ]
     },
     "metadata": {
      "needs_background": "light"
     },
     "output_type": "display_data"
    }
   ],
   "source": [
    "sns.countplot(dataset['ExperienceInCurrentDomain'],hue=dataset['LeaveOrNot'])"
   ]
  },
  {
   "cell_type": "markdown",
   "id": "d4f1d323",
   "metadata": {},
   "source": [
    "# 1.Find the No. Female Employees from Banglore leaving (198)"
   ]
  },
  {
   "cell_type": "code",
   "execution_count": 19,
   "id": "23ec01f2",
   "metadata": {
    "scrolled": true
   },
   "outputs": [
    {
     "data": {
      "text/html": [
       "<div>\n",
       "<style scoped>\n",
       "    .dataframe tbody tr th:only-of-type {\n",
       "        vertical-align: middle;\n",
       "    }\n",
       "\n",
       "    .dataframe tbody tr th {\n",
       "        vertical-align: top;\n",
       "    }\n",
       "\n",
       "    .dataframe thead th {\n",
       "        text-align: right;\n",
       "    }\n",
       "</style>\n",
       "<table border=\"1\" class=\"dataframe\">\n",
       "  <thead>\n",
       "    <tr style=\"text-align: right;\">\n",
       "      <th></th>\n",
       "      <th>AGE</th>\n",
       "      <th>Education</th>\n",
       "      <th>JoiningYear</th>\n",
       "      <th>City</th>\n",
       "      <th>PaymentTier</th>\n",
       "      <th>Age</th>\n",
       "      <th>Gender</th>\n",
       "      <th>EverBenched</th>\n",
       "      <th>ExperienceInCurrentDomain</th>\n",
       "      <th>LeaveOrNot</th>\n",
       "    </tr>\n",
       "  </thead>\n",
       "  <tbody>\n",
       "    <tr>\n",
       "      <th>7</th>\n",
       "      <td>Adult</td>\n",
       "      <td>Bachelors</td>\n",
       "      <td>2016</td>\n",
       "      <td>Bangalore</td>\n",
       "      <td>3</td>\n",
       "      <td>34</td>\n",
       "      <td>Female</td>\n",
       "      <td>No</td>\n",
       "      <td>2</td>\n",
       "      <td>1</td>\n",
       "    </tr>\n",
       "    <tr>\n",
       "      <th>69</th>\n",
       "      <td>Adult</td>\n",
       "      <td>Masters</td>\n",
       "      <td>2017</td>\n",
       "      <td>Bangalore</td>\n",
       "      <td>3</td>\n",
       "      <td>40</td>\n",
       "      <td>Female</td>\n",
       "      <td>No</td>\n",
       "      <td>2</td>\n",
       "      <td>1</td>\n",
       "    </tr>\n",
       "    <tr>\n",
       "      <th>70</th>\n",
       "      <td>Young</td>\n",
       "      <td>Bachelors</td>\n",
       "      <td>2018</td>\n",
       "      <td>Bangalore</td>\n",
       "      <td>3</td>\n",
       "      <td>23</td>\n",
       "      <td>Female</td>\n",
       "      <td>No</td>\n",
       "      <td>1</td>\n",
       "      <td>1</td>\n",
       "    </tr>\n",
       "    <tr>\n",
       "      <th>81</th>\n",
       "      <td>Adult</td>\n",
       "      <td>Bachelors</td>\n",
       "      <td>2013</td>\n",
       "      <td>Bangalore</td>\n",
       "      <td>3</td>\n",
       "      <td>31</td>\n",
       "      <td>Female</td>\n",
       "      <td>No</td>\n",
       "      <td>0</td>\n",
       "      <td>1</td>\n",
       "    </tr>\n",
       "    <tr>\n",
       "      <th>84</th>\n",
       "      <td>Young</td>\n",
       "      <td>Bachelors</td>\n",
       "      <td>2015</td>\n",
       "      <td>Bangalore</td>\n",
       "      <td>3</td>\n",
       "      <td>27</td>\n",
       "      <td>Female</td>\n",
       "      <td>Yes</td>\n",
       "      <td>5</td>\n",
       "      <td>1</td>\n",
       "    </tr>\n",
       "    <tr>\n",
       "      <th>...</th>\n",
       "      <td>...</td>\n",
       "      <td>...</td>\n",
       "      <td>...</td>\n",
       "      <td>...</td>\n",
       "      <td>...</td>\n",
       "      <td>...</td>\n",
       "      <td>...</td>\n",
       "      <td>...</td>\n",
       "      <td>...</td>\n",
       "      <td>...</td>\n",
       "    </tr>\n",
       "    <tr>\n",
       "      <th>4560</th>\n",
       "      <td>Young</td>\n",
       "      <td>Bachelors</td>\n",
       "      <td>2015</td>\n",
       "      <td>Bangalore</td>\n",
       "      <td>3</td>\n",
       "      <td>25</td>\n",
       "      <td>Female</td>\n",
       "      <td>No</td>\n",
       "      <td>3</td>\n",
       "      <td>1</td>\n",
       "    </tr>\n",
       "    <tr>\n",
       "      <th>4594</th>\n",
       "      <td>Adult</td>\n",
       "      <td>Bachelors</td>\n",
       "      <td>2013</td>\n",
       "      <td>Bangalore</td>\n",
       "      <td>3</td>\n",
       "      <td>36</td>\n",
       "      <td>Female</td>\n",
       "      <td>No</td>\n",
       "      <td>0</td>\n",
       "      <td>1</td>\n",
       "    </tr>\n",
       "    <tr>\n",
       "      <th>4612</th>\n",
       "      <td>Young</td>\n",
       "      <td>Bachelors</td>\n",
       "      <td>2012</td>\n",
       "      <td>Bangalore</td>\n",
       "      <td>3</td>\n",
       "      <td>23</td>\n",
       "      <td>Female</td>\n",
       "      <td>No</td>\n",
       "      <td>1</td>\n",
       "      <td>1</td>\n",
       "    </tr>\n",
       "    <tr>\n",
       "      <th>4632</th>\n",
       "      <td>Adult</td>\n",
       "      <td>Bachelors</td>\n",
       "      <td>2018</td>\n",
       "      <td>Bangalore</td>\n",
       "      <td>3</td>\n",
       "      <td>31</td>\n",
       "      <td>Female</td>\n",
       "      <td>No</td>\n",
       "      <td>2</td>\n",
       "      <td>1</td>\n",
       "    </tr>\n",
       "    <tr>\n",
       "      <th>4641</th>\n",
       "      <td>Adult</td>\n",
       "      <td>Bachelors</td>\n",
       "      <td>2016</td>\n",
       "      <td>Bangalore</td>\n",
       "      <td>1</td>\n",
       "      <td>33</td>\n",
       "      <td>Female</td>\n",
       "      <td>No</td>\n",
       "      <td>0</td>\n",
       "      <td>1</td>\n",
       "    </tr>\n",
       "  </tbody>\n",
       "</table>\n",
       "<p>198 rows × 10 columns</p>\n",
       "</div>"
      ],
      "text/plain": [
       "        AGE  Education  JoiningYear       City  PaymentTier  Age  Gender  \\\n",
       "7     Adult  Bachelors         2016  Bangalore            3   34  Female   \n",
       "69    Adult    Masters         2017  Bangalore            3   40  Female   \n",
       "70    Young  Bachelors         2018  Bangalore            3   23  Female   \n",
       "81    Adult  Bachelors         2013  Bangalore            3   31  Female   \n",
       "84    Young  Bachelors         2015  Bangalore            3   27  Female   \n",
       "...     ...        ...          ...        ...          ...  ...     ...   \n",
       "4560  Young  Bachelors         2015  Bangalore            3   25  Female   \n",
       "4594  Adult  Bachelors         2013  Bangalore            3   36  Female   \n",
       "4612  Young  Bachelors         2012  Bangalore            3   23  Female   \n",
       "4632  Adult  Bachelors         2018  Bangalore            3   31  Female   \n",
       "4641  Adult  Bachelors         2016  Bangalore            1   33  Female   \n",
       "\n",
       "     EverBenched  ExperienceInCurrentDomain  LeaveOrNot  \n",
       "7             No                          2           1  \n",
       "69            No                          2           1  \n",
       "70            No                          1           1  \n",
       "81            No                          0           1  \n",
       "84           Yes                          5           1  \n",
       "...          ...                        ...         ...  \n",
       "4560          No                          3           1  \n",
       "4594          No                          0           1  \n",
       "4612          No                          1           1  \n",
       "4632          No                          2           1  \n",
       "4641          No                          0           1  \n",
       "\n",
       "[198 rows x 10 columns]"
      ]
     },
     "execution_count": 19,
     "metadata": {},
     "output_type": "execute_result"
    }
   ],
   "source": [
    "dataset.loc[(dataset['City']=='Bangalore') &  (dataset['Gender']=='Female') & (dataset['LeaveOrNot']==1)]"
   ]
  },
  {
   "cell_type": "markdown",
   "id": "a95008f0",
   "metadata": {},
   "source": [
    "# 2.Total how many employees are leaved(1600)"
   ]
  },
  {
   "cell_type": "code",
   "execution_count": 20,
   "id": "8f1bbcbb",
   "metadata": {
    "scrolled": true
   },
   "outputs": [
    {
     "data": {
      "text/html": [
       "<div>\n",
       "<style scoped>\n",
       "    .dataframe tbody tr th:only-of-type {\n",
       "        vertical-align: middle;\n",
       "    }\n",
       "\n",
       "    .dataframe tbody tr th {\n",
       "        vertical-align: top;\n",
       "    }\n",
       "\n",
       "    .dataframe thead th {\n",
       "        text-align: right;\n",
       "    }\n",
       "</style>\n",
       "<table border=\"1\" class=\"dataframe\">\n",
       "  <thead>\n",
       "    <tr style=\"text-align: right;\">\n",
       "      <th></th>\n",
       "      <th>AGE</th>\n",
       "      <th>Education</th>\n",
       "      <th>JoiningYear</th>\n",
       "      <th>City</th>\n",
       "      <th>PaymentTier</th>\n",
       "      <th>Age</th>\n",
       "      <th>Gender</th>\n",
       "      <th>EverBenched</th>\n",
       "      <th>ExperienceInCurrentDomain</th>\n",
       "      <th>LeaveOrNot</th>\n",
       "    </tr>\n",
       "  </thead>\n",
       "  <tbody>\n",
       "    <tr>\n",
       "      <th>1</th>\n",
       "      <td>Young</td>\n",
       "      <td>Bachelors</td>\n",
       "      <td>2013</td>\n",
       "      <td>Pune</td>\n",
       "      <td>1</td>\n",
       "      <td>28</td>\n",
       "      <td>Female</td>\n",
       "      <td>No</td>\n",
       "      <td>3</td>\n",
       "      <td>1</td>\n",
       "    </tr>\n",
       "    <tr>\n",
       "      <th>3</th>\n",
       "      <td>Young</td>\n",
       "      <td>Masters</td>\n",
       "      <td>2016</td>\n",
       "      <td>Bangalore</td>\n",
       "      <td>3</td>\n",
       "      <td>27</td>\n",
       "      <td>Male</td>\n",
       "      <td>No</td>\n",
       "      <td>5</td>\n",
       "      <td>1</td>\n",
       "    </tr>\n",
       "    <tr>\n",
       "      <th>4</th>\n",
       "      <td>Young</td>\n",
       "      <td>Masters</td>\n",
       "      <td>2017</td>\n",
       "      <td>Pune</td>\n",
       "      <td>3</td>\n",
       "      <td>24</td>\n",
       "      <td>Male</td>\n",
       "      <td>Yes</td>\n",
       "      <td>2</td>\n",
       "      <td>1</td>\n",
       "    </tr>\n",
       "    <tr>\n",
       "      <th>7</th>\n",
       "      <td>Adult</td>\n",
       "      <td>Bachelors</td>\n",
       "      <td>2016</td>\n",
       "      <td>Bangalore</td>\n",
       "      <td>3</td>\n",
       "      <td>34</td>\n",
       "      <td>Female</td>\n",
       "      <td>No</td>\n",
       "      <td>2</td>\n",
       "      <td>1</td>\n",
       "    </tr>\n",
       "    <tr>\n",
       "      <th>10</th>\n",
       "      <td>Young</td>\n",
       "      <td>Masters</td>\n",
       "      <td>2012</td>\n",
       "      <td>Bangalore</td>\n",
       "      <td>3</td>\n",
       "      <td>27</td>\n",
       "      <td>Male</td>\n",
       "      <td>No</td>\n",
       "      <td>5</td>\n",
       "      <td>1</td>\n",
       "    </tr>\n",
       "    <tr>\n",
       "      <th>...</th>\n",
       "      <td>...</td>\n",
       "      <td>...</td>\n",
       "      <td>...</td>\n",
       "      <td>...</td>\n",
       "      <td>...</td>\n",
       "      <td>...</td>\n",
       "      <td>...</td>\n",
       "      <td>...</td>\n",
       "      <td>...</td>\n",
       "      <td>...</td>\n",
       "    </tr>\n",
       "    <tr>\n",
       "      <th>4639</th>\n",
       "      <td>Young</td>\n",
       "      <td>Bachelors</td>\n",
       "      <td>2017</td>\n",
       "      <td>Bangalore</td>\n",
       "      <td>3</td>\n",
       "      <td>28</td>\n",
       "      <td>Male</td>\n",
       "      <td>No</td>\n",
       "      <td>0</td>\n",
       "      <td>1</td>\n",
       "    </tr>\n",
       "    <tr>\n",
       "      <th>4641</th>\n",
       "      <td>Adult</td>\n",
       "      <td>Bachelors</td>\n",
       "      <td>2016</td>\n",
       "      <td>Bangalore</td>\n",
       "      <td>1</td>\n",
       "      <td>33</td>\n",
       "      <td>Female</td>\n",
       "      <td>No</td>\n",
       "      <td>0</td>\n",
       "      <td>1</td>\n",
       "    </tr>\n",
       "    <tr>\n",
       "      <th>4644</th>\n",
       "      <td>Adult</td>\n",
       "      <td>Bachelors</td>\n",
       "      <td>2015</td>\n",
       "      <td>Pune</td>\n",
       "      <td>3</td>\n",
       "      <td>32</td>\n",
       "      <td>Female</td>\n",
       "      <td>Yes</td>\n",
       "      <td>1</td>\n",
       "      <td>1</td>\n",
       "    </tr>\n",
       "    <tr>\n",
       "      <th>4649</th>\n",
       "      <td>Adult</td>\n",
       "      <td>Masters</td>\n",
       "      <td>2013</td>\n",
       "      <td>Pune</td>\n",
       "      <td>2</td>\n",
       "      <td>37</td>\n",
       "      <td>Male</td>\n",
       "      <td>No</td>\n",
       "      <td>2</td>\n",
       "      <td>1</td>\n",
       "    </tr>\n",
       "    <tr>\n",
       "      <th>4650</th>\n",
       "      <td>Young</td>\n",
       "      <td>Masters</td>\n",
       "      <td>2018</td>\n",
       "      <td>New Delhi</td>\n",
       "      <td>3</td>\n",
       "      <td>27</td>\n",
       "      <td>Male</td>\n",
       "      <td>No</td>\n",
       "      <td>5</td>\n",
       "      <td>1</td>\n",
       "    </tr>\n",
       "  </tbody>\n",
       "</table>\n",
       "<p>1600 rows × 10 columns</p>\n",
       "</div>"
      ],
      "text/plain": [
       "        AGE  Education  JoiningYear       City  PaymentTier  Age  Gender  \\\n",
       "1     Young  Bachelors         2013       Pune            1   28  Female   \n",
       "3     Young    Masters         2016  Bangalore            3   27    Male   \n",
       "4     Young    Masters         2017       Pune            3   24    Male   \n",
       "7     Adult  Bachelors         2016  Bangalore            3   34  Female   \n",
       "10    Young    Masters         2012  Bangalore            3   27    Male   \n",
       "...     ...        ...          ...        ...          ...  ...     ...   \n",
       "4639  Young  Bachelors         2017  Bangalore            3   28    Male   \n",
       "4641  Adult  Bachelors         2016  Bangalore            1   33  Female   \n",
       "4644  Adult  Bachelors         2015       Pune            3   32  Female   \n",
       "4649  Adult    Masters         2013       Pune            2   37    Male   \n",
       "4650  Young    Masters         2018  New Delhi            3   27    Male   \n",
       "\n",
       "     EverBenched  ExperienceInCurrentDomain  LeaveOrNot  \n",
       "1             No                          3           1  \n",
       "3             No                          5           1  \n",
       "4            Yes                          2           1  \n",
       "7             No                          2           1  \n",
       "10            No                          5           1  \n",
       "...          ...                        ...         ...  \n",
       "4639          No                          0           1  \n",
       "4641          No                          0           1  \n",
       "4644         Yes                          1           1  \n",
       "4649          No                          2           1  \n",
       "4650          No                          5           1  \n",
       "\n",
       "[1600 rows x 10 columns]"
      ]
     },
     "execution_count": 20,
     "metadata": {},
     "output_type": "execute_result"
    }
   ],
   "source": [
    "dataset.loc[(dataset['LeaveOrNot']==1) ]"
   ]
  },
  {
   "cell_type": "markdown",
   "id": "9190f075",
   "metadata": {},
   "source": [
    "# 3.No.of employees leaving from tier 1 tier2 tier3"
   ]
  },
  {
   "cell_type": "code",
   "execution_count": 21,
   "id": "0fcbb6f6",
   "metadata": {
    "scrolled": false
   },
   "outputs": [
    {
     "data": {
      "text/html": [
       "<div>\n",
       "<style scoped>\n",
       "    .dataframe tbody tr th:only-of-type {\n",
       "        vertical-align: middle;\n",
       "    }\n",
       "\n",
       "    .dataframe tbody tr th {\n",
       "        vertical-align: top;\n",
       "    }\n",
       "\n",
       "    .dataframe thead th {\n",
       "        text-align: right;\n",
       "    }\n",
       "</style>\n",
       "<table border=\"1\" class=\"dataframe\">\n",
       "  <thead>\n",
       "    <tr style=\"text-align: right;\">\n",
       "      <th></th>\n",
       "      <th>AGE</th>\n",
       "      <th>Education</th>\n",
       "      <th>JoiningYear</th>\n",
       "      <th>City</th>\n",
       "      <th>PaymentTier</th>\n",
       "      <th>Age</th>\n",
       "      <th>Gender</th>\n",
       "      <th>EverBenched</th>\n",
       "      <th>ExperienceInCurrentDomain</th>\n",
       "      <th>LeaveOrNot</th>\n",
       "    </tr>\n",
       "  </thead>\n",
       "  <tbody>\n",
       "    <tr>\n",
       "      <th>1</th>\n",
       "      <td>Young</td>\n",
       "      <td>Bachelors</td>\n",
       "      <td>2013</td>\n",
       "      <td>Pune</td>\n",
       "      <td>1</td>\n",
       "      <td>28</td>\n",
       "      <td>Female</td>\n",
       "      <td>No</td>\n",
       "      <td>3</td>\n",
       "      <td>1</td>\n",
       "    </tr>\n",
       "    <tr>\n",
       "      <th>3</th>\n",
       "      <td>Young</td>\n",
       "      <td>Masters</td>\n",
       "      <td>2016</td>\n",
       "      <td>Bangalore</td>\n",
       "      <td>3</td>\n",
       "      <td>27</td>\n",
       "      <td>Male</td>\n",
       "      <td>No</td>\n",
       "      <td>5</td>\n",
       "      <td>1</td>\n",
       "    </tr>\n",
       "    <tr>\n",
       "      <th>4</th>\n",
       "      <td>Young</td>\n",
       "      <td>Masters</td>\n",
       "      <td>2017</td>\n",
       "      <td>Pune</td>\n",
       "      <td>3</td>\n",
       "      <td>24</td>\n",
       "      <td>Male</td>\n",
       "      <td>Yes</td>\n",
       "      <td>2</td>\n",
       "      <td>1</td>\n",
       "    </tr>\n",
       "    <tr>\n",
       "      <th>7</th>\n",
       "      <td>Adult</td>\n",
       "      <td>Bachelors</td>\n",
       "      <td>2016</td>\n",
       "      <td>Bangalore</td>\n",
       "      <td>3</td>\n",
       "      <td>34</td>\n",
       "      <td>Female</td>\n",
       "      <td>No</td>\n",
       "      <td>2</td>\n",
       "      <td>1</td>\n",
       "    </tr>\n",
       "    <tr>\n",
       "      <th>10</th>\n",
       "      <td>Young</td>\n",
       "      <td>Masters</td>\n",
       "      <td>2012</td>\n",
       "      <td>Bangalore</td>\n",
       "      <td>3</td>\n",
       "      <td>27</td>\n",
       "      <td>Male</td>\n",
       "      <td>No</td>\n",
       "      <td>5</td>\n",
       "      <td>1</td>\n",
       "    </tr>\n",
       "    <tr>\n",
       "      <th>...</th>\n",
       "      <td>...</td>\n",
       "      <td>...</td>\n",
       "      <td>...</td>\n",
       "      <td>...</td>\n",
       "      <td>...</td>\n",
       "      <td>...</td>\n",
       "      <td>...</td>\n",
       "      <td>...</td>\n",
       "      <td>...</td>\n",
       "      <td>...</td>\n",
       "    </tr>\n",
       "    <tr>\n",
       "      <th>4639</th>\n",
       "      <td>Young</td>\n",
       "      <td>Bachelors</td>\n",
       "      <td>2017</td>\n",
       "      <td>Bangalore</td>\n",
       "      <td>3</td>\n",
       "      <td>28</td>\n",
       "      <td>Male</td>\n",
       "      <td>No</td>\n",
       "      <td>0</td>\n",
       "      <td>1</td>\n",
       "    </tr>\n",
       "    <tr>\n",
       "      <th>4641</th>\n",
       "      <td>Adult</td>\n",
       "      <td>Bachelors</td>\n",
       "      <td>2016</td>\n",
       "      <td>Bangalore</td>\n",
       "      <td>1</td>\n",
       "      <td>33</td>\n",
       "      <td>Female</td>\n",
       "      <td>No</td>\n",
       "      <td>0</td>\n",
       "      <td>1</td>\n",
       "    </tr>\n",
       "    <tr>\n",
       "      <th>4644</th>\n",
       "      <td>Adult</td>\n",
       "      <td>Bachelors</td>\n",
       "      <td>2015</td>\n",
       "      <td>Pune</td>\n",
       "      <td>3</td>\n",
       "      <td>32</td>\n",
       "      <td>Female</td>\n",
       "      <td>Yes</td>\n",
       "      <td>1</td>\n",
       "      <td>1</td>\n",
       "    </tr>\n",
       "    <tr>\n",
       "      <th>4649</th>\n",
       "      <td>Adult</td>\n",
       "      <td>Masters</td>\n",
       "      <td>2013</td>\n",
       "      <td>Pune</td>\n",
       "      <td>2</td>\n",
       "      <td>37</td>\n",
       "      <td>Male</td>\n",
       "      <td>No</td>\n",
       "      <td>2</td>\n",
       "      <td>1</td>\n",
       "    </tr>\n",
       "    <tr>\n",
       "      <th>4650</th>\n",
       "      <td>Young</td>\n",
       "      <td>Masters</td>\n",
       "      <td>2018</td>\n",
       "      <td>New Delhi</td>\n",
       "      <td>3</td>\n",
       "      <td>27</td>\n",
       "      <td>Male</td>\n",
       "      <td>No</td>\n",
       "      <td>5</td>\n",
       "      <td>1</td>\n",
       "    </tr>\n",
       "  </tbody>\n",
       "</table>\n",
       "<p>1600 rows × 10 columns</p>\n",
       "</div>"
      ],
      "text/plain": [
       "        AGE  Education  JoiningYear       City  PaymentTier  Age  Gender  \\\n",
       "1     Young  Bachelors         2013       Pune            1   28  Female   \n",
       "3     Young    Masters         2016  Bangalore            3   27    Male   \n",
       "4     Young    Masters         2017       Pune            3   24    Male   \n",
       "7     Adult  Bachelors         2016  Bangalore            3   34  Female   \n",
       "10    Young    Masters         2012  Bangalore            3   27    Male   \n",
       "...     ...        ...          ...        ...          ...  ...     ...   \n",
       "4639  Young  Bachelors         2017  Bangalore            3   28    Male   \n",
       "4641  Adult  Bachelors         2016  Bangalore            1   33  Female   \n",
       "4644  Adult  Bachelors         2015       Pune            3   32  Female   \n",
       "4649  Adult    Masters         2013       Pune            2   37    Male   \n",
       "4650  Young    Masters         2018  New Delhi            3   27    Male   \n",
       "\n",
       "     EverBenched  ExperienceInCurrentDomain  LeaveOrNot  \n",
       "1             No                          3           1  \n",
       "3             No                          5           1  \n",
       "4            Yes                          2           1  \n",
       "7             No                          2           1  \n",
       "10            No                          5           1  \n",
       "...          ...                        ...         ...  \n",
       "4639          No                          0           1  \n",
       "4641          No                          0           1  \n",
       "4644         Yes                          1           1  \n",
       "4649          No                          2           1  \n",
       "4650          No                          5           1  \n",
       "\n",
       "[1600 rows x 10 columns]"
      ]
     },
     "execution_count": 21,
     "metadata": {},
     "output_type": "execute_result"
    }
   ],
   "source": [
    "d=dataset.loc[(dataset['LeaveOrNot']==1)]\n",
    "d"
   ]
  },
  {
   "cell_type": "code",
   "execution_count": 22,
   "id": "33c4596d",
   "metadata": {
    "scrolled": true
   },
   "outputs": [
    {
     "data": {
      "text/plain": [
       "3    961\n",
       "2    550\n",
       "1     89\n",
       "Name: PaymentTier, dtype: int64"
      ]
     },
     "execution_count": 22,
     "metadata": {},
     "output_type": "execute_result"
    }
   ],
   "source": [
    "d['PaymentTier'].value_counts()"
   ]
  },
  {
   "cell_type": "markdown",
   "id": "23e7fa7f",
   "metadata": {},
   "source": [
    "# 4.finding why employees from tier 3 are leaved"
   ]
  },
  {
   "cell_type": "code",
   "execution_count": 23,
   "id": "6d528103",
   "metadata": {
    "scrolled": false
   },
   "outputs": [
    {
     "data": {
      "text/html": [
       "<div>\n",
       "<style scoped>\n",
       "    .dataframe tbody tr th:only-of-type {\n",
       "        vertical-align: middle;\n",
       "    }\n",
       "\n",
       "    .dataframe tbody tr th {\n",
       "        vertical-align: top;\n",
       "    }\n",
       "\n",
       "    .dataframe thead th {\n",
       "        text-align: right;\n",
       "    }\n",
       "</style>\n",
       "<table border=\"1\" class=\"dataframe\">\n",
       "  <thead>\n",
       "    <tr style=\"text-align: right;\">\n",
       "      <th></th>\n",
       "      <th>AGE</th>\n",
       "      <th>Education</th>\n",
       "      <th>JoiningYear</th>\n",
       "      <th>City</th>\n",
       "      <th>PaymentTier</th>\n",
       "      <th>Age</th>\n",
       "      <th>Gender</th>\n",
       "      <th>EverBenched</th>\n",
       "      <th>ExperienceInCurrentDomain</th>\n",
       "      <th>LeaveOrNot</th>\n",
       "    </tr>\n",
       "  </thead>\n",
       "  <tbody>\n",
       "    <tr>\n",
       "      <th>3</th>\n",
       "      <td>Young</td>\n",
       "      <td>Masters</td>\n",
       "      <td>2016</td>\n",
       "      <td>Bangalore</td>\n",
       "      <td>3</td>\n",
       "      <td>27</td>\n",
       "      <td>Male</td>\n",
       "      <td>No</td>\n",
       "      <td>5</td>\n",
       "      <td>1</td>\n",
       "    </tr>\n",
       "    <tr>\n",
       "      <th>4</th>\n",
       "      <td>Young</td>\n",
       "      <td>Masters</td>\n",
       "      <td>2017</td>\n",
       "      <td>Pune</td>\n",
       "      <td>3</td>\n",
       "      <td>24</td>\n",
       "      <td>Male</td>\n",
       "      <td>Yes</td>\n",
       "      <td>2</td>\n",
       "      <td>1</td>\n",
       "    </tr>\n",
       "    <tr>\n",
       "      <th>7</th>\n",
       "      <td>Adult</td>\n",
       "      <td>Bachelors</td>\n",
       "      <td>2016</td>\n",
       "      <td>Bangalore</td>\n",
       "      <td>3</td>\n",
       "      <td>34</td>\n",
       "      <td>Female</td>\n",
       "      <td>No</td>\n",
       "      <td>2</td>\n",
       "      <td>1</td>\n",
       "    </tr>\n",
       "    <tr>\n",
       "      <th>10</th>\n",
       "      <td>Young</td>\n",
       "      <td>Masters</td>\n",
       "      <td>2012</td>\n",
       "      <td>Bangalore</td>\n",
       "      <td>3</td>\n",
       "      <td>27</td>\n",
       "      <td>Male</td>\n",
       "      <td>No</td>\n",
       "      <td>5</td>\n",
       "      <td>1</td>\n",
       "    </tr>\n",
       "    <tr>\n",
       "      <th>12</th>\n",
       "      <td>Adult</td>\n",
       "      <td>Bachelors</td>\n",
       "      <td>2018</td>\n",
       "      <td>Pune</td>\n",
       "      <td>3</td>\n",
       "      <td>32</td>\n",
       "      <td>Male</td>\n",
       "      <td>Yes</td>\n",
       "      <td>5</td>\n",
       "      <td>1</td>\n",
       "    </tr>\n",
       "    <tr>\n",
       "      <th>...</th>\n",
       "      <td>...</td>\n",
       "      <td>...</td>\n",
       "      <td>...</td>\n",
       "      <td>...</td>\n",
       "      <td>...</td>\n",
       "      <td>...</td>\n",
       "      <td>...</td>\n",
       "      <td>...</td>\n",
       "      <td>...</td>\n",
       "      <td>...</td>\n",
       "    </tr>\n",
       "    <tr>\n",
       "      <th>4636</th>\n",
       "      <td>Adult</td>\n",
       "      <td>Masters</td>\n",
       "      <td>2014</td>\n",
       "      <td>New Delhi</td>\n",
       "      <td>3</td>\n",
       "      <td>37</td>\n",
       "      <td>Female</td>\n",
       "      <td>No</td>\n",
       "      <td>0</td>\n",
       "      <td>1</td>\n",
       "    </tr>\n",
       "    <tr>\n",
       "      <th>4637</th>\n",
       "      <td>Adult</td>\n",
       "      <td>Bachelors</td>\n",
       "      <td>2018</td>\n",
       "      <td>Bangalore</td>\n",
       "      <td>3</td>\n",
       "      <td>32</td>\n",
       "      <td>Male</td>\n",
       "      <td>Yes</td>\n",
       "      <td>2</td>\n",
       "      <td>1</td>\n",
       "    </tr>\n",
       "    <tr>\n",
       "      <th>4639</th>\n",
       "      <td>Young</td>\n",
       "      <td>Bachelors</td>\n",
       "      <td>2017</td>\n",
       "      <td>Bangalore</td>\n",
       "      <td>3</td>\n",
       "      <td>28</td>\n",
       "      <td>Male</td>\n",
       "      <td>No</td>\n",
       "      <td>0</td>\n",
       "      <td>1</td>\n",
       "    </tr>\n",
       "    <tr>\n",
       "      <th>4644</th>\n",
       "      <td>Adult</td>\n",
       "      <td>Bachelors</td>\n",
       "      <td>2015</td>\n",
       "      <td>Pune</td>\n",
       "      <td>3</td>\n",
       "      <td>32</td>\n",
       "      <td>Female</td>\n",
       "      <td>Yes</td>\n",
       "      <td>1</td>\n",
       "      <td>1</td>\n",
       "    </tr>\n",
       "    <tr>\n",
       "      <th>4650</th>\n",
       "      <td>Young</td>\n",
       "      <td>Masters</td>\n",
       "      <td>2018</td>\n",
       "      <td>New Delhi</td>\n",
       "      <td>3</td>\n",
       "      <td>27</td>\n",
       "      <td>Male</td>\n",
       "      <td>No</td>\n",
       "      <td>5</td>\n",
       "      <td>1</td>\n",
       "    </tr>\n",
       "  </tbody>\n",
       "</table>\n",
       "<p>961 rows × 10 columns</p>\n",
       "</div>"
      ],
      "text/plain": [
       "        AGE  Education  JoiningYear       City  PaymentTier  Age  Gender  \\\n",
       "3     Young    Masters         2016  Bangalore            3   27    Male   \n",
       "4     Young    Masters         2017       Pune            3   24    Male   \n",
       "7     Adult  Bachelors         2016  Bangalore            3   34  Female   \n",
       "10    Young    Masters         2012  Bangalore            3   27    Male   \n",
       "12    Adult  Bachelors         2018       Pune            3   32    Male   \n",
       "...     ...        ...          ...        ...          ...  ...     ...   \n",
       "4636  Adult    Masters         2014  New Delhi            3   37  Female   \n",
       "4637  Adult  Bachelors         2018  Bangalore            3   32    Male   \n",
       "4639  Young  Bachelors         2017  Bangalore            3   28    Male   \n",
       "4644  Adult  Bachelors         2015       Pune            3   32  Female   \n",
       "4650  Young    Masters         2018  New Delhi            3   27    Male   \n",
       "\n",
       "     EverBenched  ExperienceInCurrentDomain  LeaveOrNot  \n",
       "3             No                          5           1  \n",
       "4            Yes                          2           1  \n",
       "7             No                          2           1  \n",
       "10            No                          5           1  \n",
       "12           Yes                          5           1  \n",
       "...          ...                        ...         ...  \n",
       "4636          No                          0           1  \n",
       "4637         Yes                          2           1  \n",
       "4639          No                          0           1  \n",
       "4644         Yes                          1           1  \n",
       "4650          No                          5           1  \n",
       "\n",
       "[961 rows x 10 columns]"
      ]
     },
     "execution_count": 23,
     "metadata": {},
     "output_type": "execute_result"
    }
   ],
   "source": [
    "d1=d.loc[d['PaymentTier']==3]\n",
    "d1"
   ]
  },
  {
   "cell_type": "code",
   "execution_count": 24,
   "id": "6d5d9930",
   "metadata": {},
   "outputs": [
    {
     "data": {
      "text/plain": [
       "No     828\n",
       "Yes    133\n",
       "Name: EverBenched, dtype: int64"
      ]
     },
     "execution_count": 24,
     "metadata": {},
     "output_type": "execute_result"
    }
   ],
   "source": [
    "d1['EverBenched'].value_counts()"
   ]
  },
  {
   "cell_type": "code",
   "execution_count": 25,
   "id": "3466e35f",
   "metadata": {
    "scrolled": true
   },
   "outputs": [
    {
     "data": {
      "text/plain": [
       "Young    684\n",
       "Adult    277\n",
       "Name: AGE, dtype: int64"
      ]
     },
     "execution_count": 25,
     "metadata": {},
     "output_type": "execute_result"
    }
   ],
   "source": [
    "d1['AGE'].value_counts()"
   ]
  },
  {
   "cell_type": "code",
   "execution_count": 26,
   "id": "a034d1d7",
   "metadata": {
    "scrolled": true
   },
   "outputs": [
    {
     "data": {
      "text/plain": [
       "2018    341\n",
       "2015    124\n",
       "2017    119\n",
       "2013    114\n",
       "2014    109\n",
       "2012     78\n",
       "2016     76\n",
       "Name: JoiningYear, dtype: int64"
      ]
     },
     "execution_count": 26,
     "metadata": {},
     "output_type": "execute_result"
    }
   ],
   "source": [
    "d1['JoiningYear'].value_counts()"
   ]
  },
  {
   "cell_type": "code",
   "execution_count": 27,
   "id": "cbb23fa9",
   "metadata": {
    "scrolled": true
   },
   "outputs": [
    {
     "data": {
      "text/plain": [
       "Bachelors    671\n",
       "Masters      255\n",
       "PHD           35\n",
       "Name: Education, dtype: int64"
      ]
     },
     "execution_count": 27,
     "metadata": {},
     "output_type": "execute_result"
    }
   ],
   "source": [
    "d1['Education'].value_counts()"
   ]
  },
  {
   "cell_type": "code",
   "execution_count": 28,
   "id": "ad01d70f",
   "metadata": {
    "scrolled": true
   },
   "outputs": [
    {
     "data": {
      "text/plain": [
       "Bangalore    529\n",
       "Pune         219\n",
       "New Delhi    213\n",
       "Name: City, dtype: int64"
      ]
     },
     "execution_count": 28,
     "metadata": {},
     "output_type": "execute_result"
    }
   ],
   "source": [
    "d1['City'].value_counts()"
   ]
  },
  {
   "cell_type": "code",
   "execution_count": 29,
   "id": "fe5d71a4",
   "metadata": {
    "scrolled": true
   },
   "outputs": [
    {
     "data": {
      "text/plain": [
       "2    238\n",
       "3    183\n",
       "5    177\n",
       "4    169\n",
       "1    120\n",
       "0     69\n",
       "7      3\n",
       "6      2\n",
       "Name: ExperienceInCurrentDomain, dtype: int64"
      ]
     },
     "execution_count": 29,
     "metadata": {},
     "output_type": "execute_result"
    }
   ],
   "source": [
    "d1['ExperienceInCurrentDomain'].value_counts()"
   ]
  },
  {
   "cell_type": "markdown",
   "id": "3630463f",
   "metadata": {},
   "source": [
    "Most of the employee who leaved having experience more than year & they are young(21-31yr) & Most of them are Bachelores"
   ]
  },
  {
   "cell_type": "code",
   "execution_count": 30,
   "id": "d3586d53",
   "metadata": {},
   "outputs": [],
   "source": [
    "del dataset['AGE']"
   ]
  },
  {
   "cell_type": "code",
   "execution_count": 31,
   "id": "d35b078d",
   "metadata": {},
   "outputs": [],
   "source": [
    "l1=LabelEncoder()\n",
    "dataset['Education']=l1.fit_transform(dataset['Education'])\n",
    "dataset['JoiningYear']=l1.fit_transform(dataset['JoiningYear'])\n",
    "dataset['City']=l1.fit_transform(dataset['City'])\n",
    "dataset['Gender']=l1.fit_transform(dataset['Gender'])\n",
    "dataset['EverBenched']=l1.fit_transform(dataset['EverBenched'])"
   ]
  },
  {
   "cell_type": "code",
   "execution_count": 32,
   "id": "438a1d85",
   "metadata": {
    "scrolled": true
   },
   "outputs": [
    {
     "data": {
      "text/html": [
       "<div>\n",
       "<style scoped>\n",
       "    .dataframe tbody tr th:only-of-type {\n",
       "        vertical-align: middle;\n",
       "    }\n",
       "\n",
       "    .dataframe tbody tr th {\n",
       "        vertical-align: top;\n",
       "    }\n",
       "\n",
       "    .dataframe thead th {\n",
       "        text-align: right;\n",
       "    }\n",
       "</style>\n",
       "<table border=\"1\" class=\"dataframe\">\n",
       "  <thead>\n",
       "    <tr style=\"text-align: right;\">\n",
       "      <th></th>\n",
       "      <th>Education</th>\n",
       "      <th>JoiningYear</th>\n",
       "      <th>City</th>\n",
       "      <th>PaymentTier</th>\n",
       "      <th>Age</th>\n",
       "      <th>Gender</th>\n",
       "      <th>EverBenched</th>\n",
       "      <th>ExperienceInCurrentDomain</th>\n",
       "      <th>LeaveOrNot</th>\n",
       "    </tr>\n",
       "  </thead>\n",
       "  <tbody>\n",
       "    <tr>\n",
       "      <th>0</th>\n",
       "      <td>0</td>\n",
       "      <td>5</td>\n",
       "      <td>0</td>\n",
       "      <td>3</td>\n",
       "      <td>34</td>\n",
       "      <td>1</td>\n",
       "      <td>0</td>\n",
       "      <td>0</td>\n",
       "      <td>0</td>\n",
       "    </tr>\n",
       "    <tr>\n",
       "      <th>1</th>\n",
       "      <td>0</td>\n",
       "      <td>1</td>\n",
       "      <td>2</td>\n",
       "      <td>1</td>\n",
       "      <td>28</td>\n",
       "      <td>0</td>\n",
       "      <td>0</td>\n",
       "      <td>3</td>\n",
       "      <td>1</td>\n",
       "    </tr>\n",
       "    <tr>\n",
       "      <th>2</th>\n",
       "      <td>0</td>\n",
       "      <td>2</td>\n",
       "      <td>1</td>\n",
       "      <td>3</td>\n",
       "      <td>38</td>\n",
       "      <td>0</td>\n",
       "      <td>0</td>\n",
       "      <td>2</td>\n",
       "      <td>0</td>\n",
       "    </tr>\n",
       "    <tr>\n",
       "      <th>3</th>\n",
       "      <td>1</td>\n",
       "      <td>4</td>\n",
       "      <td>0</td>\n",
       "      <td>3</td>\n",
       "      <td>27</td>\n",
       "      <td>1</td>\n",
       "      <td>0</td>\n",
       "      <td>5</td>\n",
       "      <td>1</td>\n",
       "    </tr>\n",
       "    <tr>\n",
       "      <th>4</th>\n",
       "      <td>1</td>\n",
       "      <td>5</td>\n",
       "      <td>2</td>\n",
       "      <td>3</td>\n",
       "      <td>24</td>\n",
       "      <td>1</td>\n",
       "      <td>1</td>\n",
       "      <td>2</td>\n",
       "      <td>1</td>\n",
       "    </tr>\n",
       "    <tr>\n",
       "      <th>...</th>\n",
       "      <td>...</td>\n",
       "      <td>...</td>\n",
       "      <td>...</td>\n",
       "      <td>...</td>\n",
       "      <td>...</td>\n",
       "      <td>...</td>\n",
       "      <td>...</td>\n",
       "      <td>...</td>\n",
       "      <td>...</td>\n",
       "    </tr>\n",
       "    <tr>\n",
       "      <th>4648</th>\n",
       "      <td>0</td>\n",
       "      <td>1</td>\n",
       "      <td>0</td>\n",
       "      <td>3</td>\n",
       "      <td>26</td>\n",
       "      <td>0</td>\n",
       "      <td>0</td>\n",
       "      <td>4</td>\n",
       "      <td>0</td>\n",
       "    </tr>\n",
       "    <tr>\n",
       "      <th>4649</th>\n",
       "      <td>1</td>\n",
       "      <td>1</td>\n",
       "      <td>2</td>\n",
       "      <td>2</td>\n",
       "      <td>37</td>\n",
       "      <td>1</td>\n",
       "      <td>0</td>\n",
       "      <td>2</td>\n",
       "      <td>1</td>\n",
       "    </tr>\n",
       "    <tr>\n",
       "      <th>4650</th>\n",
       "      <td>1</td>\n",
       "      <td>6</td>\n",
       "      <td>1</td>\n",
       "      <td>3</td>\n",
       "      <td>27</td>\n",
       "      <td>1</td>\n",
       "      <td>0</td>\n",
       "      <td>5</td>\n",
       "      <td>1</td>\n",
       "    </tr>\n",
       "    <tr>\n",
       "      <th>4651</th>\n",
       "      <td>0</td>\n",
       "      <td>0</td>\n",
       "      <td>0</td>\n",
       "      <td>3</td>\n",
       "      <td>30</td>\n",
       "      <td>1</td>\n",
       "      <td>1</td>\n",
       "      <td>2</td>\n",
       "      <td>0</td>\n",
       "    </tr>\n",
       "    <tr>\n",
       "      <th>4652</th>\n",
       "      <td>0</td>\n",
       "      <td>3</td>\n",
       "      <td>0</td>\n",
       "      <td>3</td>\n",
       "      <td>33</td>\n",
       "      <td>1</td>\n",
       "      <td>1</td>\n",
       "      <td>4</td>\n",
       "      <td>0</td>\n",
       "    </tr>\n",
       "  </tbody>\n",
       "</table>\n",
       "<p>4653 rows × 9 columns</p>\n",
       "</div>"
      ],
      "text/plain": [
       "      Education  JoiningYear  City  PaymentTier  Age  Gender  EverBenched  \\\n",
       "0             0            5     0            3   34       1            0   \n",
       "1             0            1     2            1   28       0            0   \n",
       "2             0            2     1            3   38       0            0   \n",
       "3             1            4     0            3   27       1            0   \n",
       "4             1            5     2            3   24       1            1   \n",
       "...         ...          ...   ...          ...  ...     ...          ...   \n",
       "4648          0            1     0            3   26       0            0   \n",
       "4649          1            1     2            2   37       1            0   \n",
       "4650          1            6     1            3   27       1            0   \n",
       "4651          0            0     0            3   30       1            1   \n",
       "4652          0            3     0            3   33       1            1   \n",
       "\n",
       "      ExperienceInCurrentDomain  LeaveOrNot  \n",
       "0                             0           0  \n",
       "1                             3           1  \n",
       "2                             2           0  \n",
       "3                             5           1  \n",
       "4                             2           1  \n",
       "...                         ...         ...  \n",
       "4648                          4           0  \n",
       "4649                          2           1  \n",
       "4650                          5           1  \n",
       "4651                          2           0  \n",
       "4652                          4           0  \n",
       "\n",
       "[4653 rows x 9 columns]"
      ]
     },
     "execution_count": 32,
     "metadata": {},
     "output_type": "execute_result"
    }
   ],
   "source": [
    "dataset"
   ]
  },
  {
   "cell_type": "code",
   "execution_count": 33,
   "id": "7de33c18",
   "metadata": {
    "scrolled": true
   },
   "outputs": [
    {
     "data": {
      "text/plain": [
       "<AxesSubplot:>"
      ]
     },
     "execution_count": 33,
     "metadata": {},
     "output_type": "execute_result"
    },
    {
     "data": {
      "image/png": "[encoded data removed]",
      "text/plain": [
       "<Figure size 1152x1080 with 2 Axes>"
      ]
     },
     "metadata": {
      "needs_background": "light"
     },
     "output_type": "display_data"
    }
   ],
   "source": [
    "plt.figure(figsize=(16,15))\n",
    "sns.heatmap(dataset.corr(),annot=True)"
   ]
  },
  {
   "cell_type": "code",
   "execution_count": 34,
   "id": "24630edd",
   "metadata": {},
   "outputs": [
    {
     "data": {
      "text/plain": [
       "0    3053\n",
       "1    1600\n",
       "Name: LeaveOrNot, dtype: int64"
      ]
     },
     "execution_count": 34,
     "metadata": {},
     "output_type": "execute_result"
    }
   ],
   "source": [
    "dataset['LeaveOrNot'].value_counts()"
   ]
  },
  {
   "cell_type": "code",
   "execution_count": 35,
   "id": "64aed935",
   "metadata": {},
   "outputs": [],
   "source": [
    "x=dataset.iloc[:,:-1].values\n",
    "y=dataset.iloc[:,-1].values"
   ]
  },
  {
   "cell_type": "code",
   "execution_count": 36,
   "id": "9166d03d",
   "metadata": {},
   "outputs": [
    {
     "data": {
      "text/plain": [
       "0"
      ]
     },
     "execution_count": 36,
     "metadata": {},
     "output_type": "execute_result"
    }
   ],
   "source": [
    "x.min()"
   ]
  },
  {
   "cell_type": "code",
   "execution_count": 37,
   "id": "6b4d268e",
   "metadata": {},
   "outputs": [
    {
     "data": {
      "text/plain": [
       "41"
      ]
     },
     "execution_count": 37,
     "metadata": {},
     "output_type": "execute_result"
    }
   ],
   "source": [
    "x.max()"
   ]
  },
  {
   "cell_type": "code",
   "execution_count": 38,
   "id": "60e22c89",
   "metadata": {},
   "outputs": [],
   "source": [
    "mas=MaxAbsScaler()\n",
    "X=mas.fit_transform(x)"
   ]
  },
  {
   "cell_type": "code",
   "execution_count": 39,
   "id": "3bc498d6",
   "metadata": {},
   "outputs": [
    {
     "data": {
      "text/plain": [
       "0.0"
      ]
     },
     "execution_count": 39,
     "metadata": {},
     "output_type": "execute_result"
    }
   ],
   "source": [
    "X.min()"
   ]
  },
  {
   "cell_type": "code",
   "execution_count": 40,
   "id": "6287d53d",
   "metadata": {},
   "outputs": [
    {
     "data": {
      "text/plain": [
       "1.0"
      ]
     },
     "execution_count": 40,
     "metadata": {},
     "output_type": "execute_result"
    }
   ],
   "source": [
    "X.max()"
   ]
  },
  {
   "cell_type": "code",
   "execution_count": 41,
   "id": "593300a2",
   "metadata": {},
   "outputs": [
    {
     "name": "stdout",
     "output_type": "stream",
     "text": [
      "Counter({0: 3053, 1: 1600})\n"
     ]
    }
   ],
   "source": [
    "print(Counter(y))"
   ]
  },
  {
   "cell_type": "code",
   "execution_count": 42,
   "id": "78b4c095",
   "metadata": {},
   "outputs": [],
   "source": [
    "s=SMOTE()\n",
    "x_data,y_data=s.fit_resample(X,y)"
   ]
  },
  {
   "cell_type": "code",
   "execution_count": 43,
   "id": "d6295381",
   "metadata": {},
   "outputs": [
    {
     "name": "stdout",
     "output_type": "stream",
     "text": [
      "Counter({0: 3053, 1: 3053})\n"
     ]
    }
   ],
   "source": [
    "print(Counter(y_data))"
   ]
  },
  {
   "cell_type": "code",
   "execution_count": 44,
   "id": "d108bae9",
   "metadata": {},
   "outputs": [
    {
     "name": "stdout",
     "output_type": "stream",
     "text": [
      "(4884, 8)\n",
      "(1222, 8)\n",
      "(4884,)\n",
      "(1222,)\n",
      "Counter({1: 623, 0: 599})\n"
     ]
    }
   ],
   "source": [
    "x_train,x_test,y_train,y_test=train_test_split(x_data,y_data,test_size=0.2,random_state=55)\n",
    "print(x_train.shape)\n",
    "print(x_test.shape)\n",
    "print(y_train.shape)\n",
    "print(y_test.shape)\n",
    "print(Counter(y_test))"
   ]
  },
  {
   "cell_type": "markdown",
   "id": "300c7683",
   "metadata": {},
   "source": [
    "# Logistic"
   ]
  },
  {
   "cell_type": "code",
   "execution_count": 45,
   "id": "627c99e0",
   "metadata": {},
   "outputs": [
    {
     "name": "stdout",
     "output_type": "stream",
     "text": [
      "Accurcay_score_logs:  63.34\n",
      "Classification_matrix:  [[390 209]\n",
      " [239 384]]\n",
      "Report:                precision    recall  f1-score   support\n",
      "\n",
      "           0       0.62      0.65      0.64       599\n",
      "           1       0.65      0.62      0.63       623\n",
      "\n",
      "    accuracy                           0.63      1222\n",
      "   macro avg       0.63      0.63      0.63      1222\n",
      "weighted avg       0.63      0.63      0.63      1222\n",
      "\n"
     ]
    }
   ],
   "source": [
    "logs=LogisticRegression()\n",
    "logs.fit(x_train,y_train)\n",
    "l_pred=logs.predict(x_test)\n",
    "l_ac=accuracy_score(y_test,l_pred)*100\n",
    "l_cm=confusion_matrix(y_test,l_pred)\n",
    "l_cr=classification_report(y_test,l_pred)\n",
    "\n",
    "\n",
    "\n",
    "print(\"Accurcay_score_logs: \",l_ac.round(2))\n",
    "print(\"Classification_matrix: \",l_cm)\n",
    "print(\"Report: \",l_cr)"
   ]
  },
  {
   "cell_type": "markdown",
   "id": "86b2a9d1",
   "metadata": {},
   "source": [
    "# SVM"
   ]
  },
  {
   "cell_type": "code",
   "execution_count": 46,
   "id": "7f421318",
   "metadata": {},
   "outputs": [
    {
     "name": "stdout",
     "output_type": "stream",
     "text": [
      "Accurcay_score_svm:  78.97\n",
      "Classification_matrix:  [[515  84]\n",
      " [173 450]]\n",
      "Report:                precision    recall  f1-score   support\n",
      "\n",
      "           0       0.75      0.86      0.80       599\n",
      "           1       0.84      0.72      0.78       623\n",
      "\n",
      "    accuracy                           0.79      1222\n",
      "   macro avg       0.80      0.79      0.79      1222\n",
      "weighted avg       0.80      0.79      0.79      1222\n",
      "\n"
     ]
    }
   ],
   "source": [
    "s1=SVC()\n",
    "s1.fit(x_train,y_train)\n",
    "s_pred=s1.predict(x_test)\n",
    "s_ac=accuracy_score(y_test,s_pred)*100\n",
    "s_cm=confusion_matrix(y_test,s_pred)\n",
    "s_cr=classification_report(y_test,s_pred)\n",
    "\n",
    "\n",
    "\n",
    "print(\"Accurcay_score_svm: \",s_ac.round(2))\n",
    "print(\"Classification_matrix: \",s_cm)\n",
    "print(\"Report: \",s_cr)"
   ]
  },
  {
   "cell_type": "markdown",
   "id": "f6186f0d",
   "metadata": {},
   "source": [
    "# KNN"
   ]
  },
  {
   "cell_type": "code",
   "execution_count": 47,
   "id": "35759039",
   "metadata": {},
   "outputs": [
    {
     "name": "stdout",
     "output_type": "stream",
     "text": [
      "Accurcay_score_knn:  82.08\n",
      "Classification_matrix:  [[515  84]\n",
      " [135 488]]\n",
      "Report:                precision    recall  f1-score   support\n",
      "\n",
      "           0       0.79      0.86      0.82       599\n",
      "           1       0.85      0.78      0.82       623\n",
      "\n",
      "    accuracy                           0.82      1222\n",
      "   macro avg       0.82      0.82      0.82      1222\n",
      "weighted avg       0.82      0.82      0.82      1222\n",
      "\n"
     ]
    }
   ],
   "source": [
    "k1=KNeighborsClassifier()\n",
    "k1.fit(x_train,y_train)\n",
    "k_pred=k1.predict(x_test)\n",
    "k_ac=accuracy_score(y_test,k_pred)*100\n",
    "k_cm=confusion_matrix(y_test,k_pred)\n",
    "k_cr=classification_report(y_test,k_pred)\n",
    "\n",
    "\n",
    "\n",
    "print(\"Accurcay_score_knn: \",k_ac.round(2))\n",
    "print(\"Classification_matrix: \",k_cm)\n",
    "print(\"Report: \",k_cr)"
   ]
  },
  {
   "cell_type": "markdown",
   "id": "0bfcd80b",
   "metadata": {},
   "source": [
    "# DecisionTree"
   ]
  },
  {
   "cell_type": "code",
   "execution_count": 48,
   "id": "c4033046",
   "metadata": {},
   "outputs": [
    {
     "name": "stdout",
     "output_type": "stream",
     "text": [
      "Accurcay_score_tree:  82.98\n",
      "Classification_matrix:  [[515  84]\n",
      " [124 499]]\n",
      "Report:                precision    recall  f1-score   support\n",
      "\n",
      "           0       0.81      0.86      0.83       599\n",
      "           1       0.86      0.80      0.83       623\n",
      "\n",
      "    accuracy                           0.83      1222\n",
      "   macro avg       0.83      0.83      0.83      1222\n",
      "weighted avg       0.83      0.83      0.83      1222\n",
      "\n"
     ]
    }
   ],
   "source": [
    "dt=DecisionTreeClassifier()\n",
    "dt.fit(x_train,y_train)\n",
    "d_pred=dt.predict(x_test)\n",
    "d_ac=accuracy_score(y_test,d_pred)*100\n",
    "d_cm=confusion_matrix(y_test,d_pred)\n",
    "d_cr=classification_report(y_test,d_pred)\n",
    "\n",
    "\n",
    "\n",
    "print(\"Accurcay_score_tree: \",d_ac.round(2))\n",
    "print(\"Classification_matrix: \",d_cm)\n",
    "print(\"Report: \",d_cr)"
   ]
  },
  {
   "cell_type": "markdown",
   "id": "39d098ec",
   "metadata": {},
   "source": [
    "## Cross Validation"
   ]
  },
  {
   "cell_type": "code",
   "execution_count": 49,
   "id": "aab3b2de",
   "metadata": {},
   "outputs": [
    {
     "name": "stdout",
     "output_type": "stream",
     "text": [
      "StratifiedKFold(n_splits=3, random_state=55, shuffle=True)\n"
     ]
    }
   ],
   "source": [
    "skf=StratifiedKFold(n_splits=3,shuffle=True,random_state=55)\n",
    "skf.get_n_splits(x_data,y_data)\n",
    "print(skf)"
   ]
  },
  {
   "cell_type": "code",
   "execution_count": 50,
   "id": "91c623ea",
   "metadata": {},
   "outputs": [
    {
     "name": "stdout",
     "output_type": "stream",
     "text": [
      "Checking Balancing Counter({1: 1018, 0: 1018})\n",
      "Accurcacy_log: 66.55206286836936 Accurcacy_svm: 75.58939096267191 Accurcacy_knn: 77.84872298624754 Accurcacy_tree: 78.38899803536346\n",
      "Matrix_log: [[678 340]\n",
      " [341 677]] Matrix_svm: [[808 210]\n",
      " [287 731]] Matrix_knn: [[799 219]\n",
      " [232 786]] Matrix_tree: [[678 340]\n",
      " [341 677]]\n",
      "Report_log:               precision    recall  f1-score   support\n",
      "\n",
      "           0       0.67      0.67      0.67      1018\n",
      "           1       0.67      0.67      0.67      1018\n",
      "\n",
      "    accuracy                           0.67      2036\n",
      "   macro avg       0.67      0.67      0.67      2036\n",
      "weighted avg       0.67      0.67      0.67      2036\n",
      " Report_svm:               precision    recall  f1-score   support\n",
      "\n",
      "           0       0.74      0.79      0.76      1018\n",
      "           1       0.78      0.72      0.75      1018\n",
      "\n",
      "    accuracy                           0.76      2036\n",
      "   macro avg       0.76      0.76      0.76      2036\n",
      "weighted avg       0.76      0.76      0.76      2036\n",
      " Report_knn:               precision    recall  f1-score   support\n",
      "\n",
      "           0       0.77      0.78      0.78      1018\n",
      "           1       0.78      0.77      0.78      1018\n",
      "\n",
      "    accuracy                           0.78      2036\n",
      "   macro avg       0.78      0.78      0.78      2036\n",
      "weighted avg       0.78      0.78      0.78      2036\n",
      " Report_tree:               precision    recall  f1-score   support\n",
      "\n",
      "           0       0.76      0.82      0.79      1018\n",
      "           1       0.81      0.75      0.78      1018\n",
      "\n",
      "    accuracy                           0.78      2036\n",
      "   macro avg       0.79      0.78      0.78      2036\n",
      "weighted avg       0.79      0.78      0.78      2036\n",
      "\n",
      "Checking Balancing Counter({0: 1018, 1: 1017})\n",
      "Accurcacy_log: 65.84766584766585 Accurcacy_svm: 74.84029484029485 Accurcacy_knn: 75.92137592137593 Accurcacy_tree: 76.31449631449631\n",
      "Matrix_log: [[682 336]\n",
      " [359 658]] Matrix_svm: [[817 201]\n",
      " [311 706]] Matrix_knn: [[800 218]\n",
      " [272 745]] Matrix_tree: [[682 336]\n",
      " [359 658]]\n",
      "Report_log:               precision    recall  f1-score   support\n",
      "\n",
      "           0       0.66      0.67      0.66      1018\n",
      "           1       0.66      0.65      0.65      1017\n",
      "\n",
      "    accuracy                           0.66      2035\n",
      "   macro avg       0.66      0.66      0.66      2035\n",
      "weighted avg       0.66      0.66      0.66      2035\n",
      " Report_svm:               precision    recall  f1-score   support\n",
      "\n",
      "           0       0.72      0.80      0.76      1018\n",
      "           1       0.78      0.69      0.73      1017\n",
      "\n",
      "    accuracy                           0.75      2035\n",
      "   macro avg       0.75      0.75      0.75      2035\n",
      "weighted avg       0.75      0.75      0.75      2035\n",
      " Report_knn:               precision    recall  f1-score   support\n",
      "\n",
      "           0       0.75      0.79      0.77      1018\n",
      "           1       0.77      0.73      0.75      1017\n",
      "\n",
      "    accuracy                           0.76      2035\n",
      "   macro avg       0.76      0.76      0.76      2035\n",
      "weighted avg       0.76      0.76      0.76      2035\n",
      " Report_tree:               precision    recall  f1-score   support\n",
      "\n",
      "           0       0.75      0.79      0.77      1018\n",
      "           1       0.78      0.73      0.76      1017\n",
      "\n",
      "    accuracy                           0.76      2035\n",
      "   macro avg       0.76      0.76      0.76      2035\n",
      "weighted avg       0.76      0.76      0.76      2035\n",
      "\n",
      "Checking Balancing Counter({1: 1018, 0: 1017})\n",
      "Accurcacy_log: 65.25798525798527 Accurcacy_svm: 75.38083538083538 Accurcacy_knn: 76.56019656019656 Accurcacy_tree: 80.24570024570025\n",
      "Matrix_log: [[680 337]\n",
      " [370 648]] Matrix_svm: [[802 215]\n",
      " [286 732]] Matrix_knn: [[818 199]\n",
      " [278 740]] Matrix_tree: [[680 337]\n",
      " [370 648]]\n",
      "Report_log:               precision    recall  f1-score   support\n",
      "\n",
      "           0       0.65      0.67      0.66      1017\n",
      "           1       0.66      0.64      0.65      1018\n",
      "\n",
      "    accuracy                           0.65      2035\n",
      "   macro avg       0.65      0.65      0.65      2035\n",
      "weighted avg       0.65      0.65      0.65      2035\n",
      " Report_svm:               precision    recall  f1-score   support\n",
      "\n",
      "           0       0.74      0.79      0.76      1017\n",
      "           1       0.77      0.72      0.75      1018\n",
      "\n",
      "    accuracy                           0.75      2035\n",
      "   macro avg       0.76      0.75      0.75      2035\n",
      "weighted avg       0.76      0.75      0.75      2035\n",
      " Report_knn:               precision    recall  f1-score   support\n",
      "\n",
      "           0       0.75      0.80      0.77      1017\n",
      "           1       0.79      0.73      0.76      1018\n",
      "\n",
      "    accuracy                           0.77      2035\n",
      "   macro avg       0.77      0.77      0.77      2035\n",
      "weighted avg       0.77      0.77      0.77      2035\n",
      " Report_tree:               precision    recall  f1-score   support\n",
      "\n",
      "           0       0.79      0.83      0.81      1017\n",
      "           1       0.82      0.78      0.80      1018\n",
      "\n",
      "    accuracy                           0.80      2035\n",
      "   macro avg       0.80      0.80      0.80      2035\n",
      "weighted avg       0.80      0.80      0.80      2035\n",
      "\n"
     ]
    }
   ],
   "source": [
    "for train,test in skf.split(x_data,y_data):\n",
    "    X_Train,X_Test=x_data[train],x_data[test]\n",
    "    Y_Train,Y_Test=y_data[train],y_data[test]\n",
    "    \n",
    "    # Log\n",
    "    sco=cross_val_score(logs,X_Train,Y_Train,cv=skf)\n",
    "    pre=cross_val_predict(logs,X_Test,Y_Test,cv=skf)\n",
    "    l_ac_1=accuracy_score(Y_Test,pre)*100\n",
    "    l_cm_1=confusion_matrix(Y_Test,pre)\n",
    "    l_cr_1=classification_report(Y_Test,pre)\n",
    "    \n",
    "    # SVM\n",
    "    sco1=cross_val_score(s1,X_Train,Y_Train,cv=skf)\n",
    "    pre1=cross_val_predict(s1,X_Test,Y_Test,cv=skf)\n",
    "    s_ac_1=accuracy_score(Y_Test,pre1)*100\n",
    "    s_cm_1=confusion_matrix(Y_Test,pre1)\n",
    "    s_cr_1=classification_report(Y_Test,pre1)\n",
    "    \n",
    "    # KNN\n",
    "    sco2=cross_val_score(k1,X_Train,Y_Train,cv=skf)\n",
    "    pre2=cross_val_predict(k1,X_Test,Y_Test,cv=skf)\n",
    "    k_ac_1=accuracy_score(Y_Test,pre2)*100\n",
    "    k_cm_1=confusion_matrix(Y_Test,pre2)\n",
    "    k_cr_1=classification_report(Y_Test,pre2)\n",
    "    \n",
    "    # DecisionTree\n",
    "    sco3=cross_val_score(dt,X_Train,Y_Train,cv=skf)\n",
    "    pre3=cross_val_predict(dt,X_Test,Y_Test,cv=skf)\n",
    "    d_ac_1=accuracy_score(Y_Test,pre3)*100\n",
    "    d_cm_=confusion_matrix(Y_Test,pre3)\n",
    "    d_cr_1=classification_report(Y_Test,pre3)\n",
    "    \n",
    "    print(\"Checking Balancing\", Counter(Y_Test))\n",
    "    print(\"Accurcacy_log:\",l_ac_1,  \"Accurcacy_svm:\",s_ac_1,   \"Accurcacy_knn:\",k_ac_1,  \"Accurcacy_tree:\",d_ac_1)\n",
    "    print(\"Matrix_log:\",l_cm_1,  \"Matrix_svm:\",s_cm_1,  \"Matrix_knn:\",k_cm_1,  \"Matrix_tree:\",l_cm_1)\n",
    "    print(\"Report_log:\",l_cr_1,  \"Report_svm:\",s_cr_1,  \"Report_knn:\",k_cr_1,  \"Report_tree:\",d_cr_1)"
   ]
  },
  {
   "cell_type": "markdown",
   "id": "fd39ce3a",
   "metadata": {},
   "source": [
    "# Ensemble"
   ]
  },
  {
   "cell_type": "code",
   "execution_count": 51,
   "id": "c2b7eaba",
   "metadata": {},
   "outputs": [
    {
     "name": "stdout",
     "output_type": "stream",
     "text": [
      "Ensemble_ac: 81.26\n",
      "Ensemble_report:               precision    recall  f1-score   support\n",
      "\n",
      "           0       0.76      0.91      0.83       599\n",
      "           1       0.89      0.72      0.80       623\n",
      "\n",
      "    accuracy                           0.81      1222\n",
      "   macro avg       0.82      0.81      0.81      1222\n",
      "weighted avg       0.83      0.81      0.81      1222\n",
      "\n",
      "Ensemble_matrix: [[543  56]\n",
      " [173 450]]\n"
     ]
    }
   ],
   "source": [
    "vc=VotingClassifier(estimators=((\"Logistic\",logs),(\"KNN\",k1),(\"SVM\",s1),(\"DecisionTree\",dt)))\n",
    "vc.fit(x_train,y_train)\n",
    "v_pred=vc.predict(x_test)\n",
    "v_ac=accuracy_score(y_test,v_pred)*100\n",
    "v_cr=classification_report(y_test,v_pred)\n",
    "v_cm=confusion_matrix(y_test,v_pred)\n",
    "print(\"Ensemble_ac:\",v_ac.round(2))\n",
    "print(\"Ensemble_report:\",v_cr)\n",
    "print(\"Ensemble_matrix:\",v_cm)"
   ]
  },
  {
   "cell_type": "markdown",
   "id": "e55f4aed",
   "metadata": {},
   "source": [
    "# RandomForest"
   ]
  },
  {
   "cell_type": "code",
   "execution_count": 52,
   "id": "f5d7c084",
   "metadata": {
    "scrolled": true
   },
   "outputs": [
    {
     "name": "stdout",
     "output_type": "stream",
     "text": [
      "Ensemble_ac: 84.29\n",
      "Ensemble_report:               precision    recall  f1-score   support\n",
      "\n",
      "           0       0.81      0.89      0.85       599\n",
      "           1       0.89      0.79      0.84       623\n",
      "\n",
      "    accuracy                           0.84      1222\n",
      "   macro avg       0.85      0.84      0.84      1222\n",
      "weighted avg       0.85      0.84      0.84      1222\n",
      "\n",
      "Ensemble_matrix: [[535  64]\n",
      " [128 495]]\n"
     ]
    }
   ],
   "source": [
    "rfc=RandomForestClassifier(n_estimators=10,random_state=55)\n",
    "rfc.fit(x_train,y_train)\n",
    "r_pred=rfc.predict(x_test)\n",
    "r_ac=accuracy_score(y_test,r_pred)*100\n",
    "r_cr=classification_report(y_test,r_pred)\n",
    "r_cm=confusion_matrix(y_test,r_pred)\n",
    "print(\"Ensemble_ac:\",r_ac.round(2))\n",
    "print(\"Ensemble_report:\",r_cr)\n",
    "print(\"Ensemble_matrix:\",r_cm)"
   ]
  },
  {
   "cell_type": "markdown",
   "id": "e8c41aa8",
   "metadata": {},
   "source": [
    "# Bagging"
   ]
  },
  {
   "cell_type": "code",
   "execution_count": 53,
   "id": "b526ea83",
   "metadata": {
    "scrolled": false
   },
   "outputs": [
    {
     "name": "stdout",
     "output_type": "stream",
     "text": [
      "Ensemble_ac: 82.0\n",
      "Ensemble_report:               precision    recall  f1-score   support\n",
      "\n",
      "           0       0.79      0.86      0.82       599\n",
      "           1       0.86      0.78      0.82       623\n",
      "\n",
      "    accuracy                           0.82      1222\n",
      "   macro avg       0.82      0.82      0.82      1222\n",
      "weighted avg       0.82      0.82      0.82      1222\n",
      "\n",
      "Ensemble_matrix: [[517  82]\n",
      " [138 485]]\n"
     ]
    }
   ],
   "source": [
    "bg=BaggingClassifier(base_estimator=k1,n_estimators=10,random_state=55)\n",
    "bg.fit(x_train,y_train)\n",
    "b_pred=bg.predict(x_test)\n",
    "b_ac=accuracy_score(y_test,b_pred)*100\n",
    "b_cr=classification_report(y_test,b_pred)\n",
    "b_cm=confusion_matrix(y_test,b_pred)\n",
    "print(\"Ensemble_ac:\",b_ac.round(2))\n",
    "print(\"Ensemble_report:\",b_cr)\n",
    "print(\"Ensemble_matrix:\",b_cm)"
   ]
  },
  {
   "cell_type": "code",
   "execution_count": null,
   "id": "bd651c5a",
   "metadata": {},
   "outputs": [],
   "source": []
  },
  {
   "cell_type": "code",
   "execution_count": null,
   "id": "26de5b0b",
   "metadata": {},
   "outputs": [],
   "source": []
  }
 ],
 "metadata": {
  "kernelspec": {
   "display_name": "Python 3 (ipykernel)",
   "language": "python",
   "name": "python3"
  },
  "language_info": {
   "codemirror_mode": {
    "name": "ipython",
    "version": 3
   },
   "file_extension": ".py",
   "mimetype": "text/x-python",
   "name": "python",
   "nbconvert_exporter": "python",
   "pygments_lexer": "ipython3",
   "version": "3.9.12"
  }
 },
 "nbformat": 4,
 "nbformat_minor": 5
}
